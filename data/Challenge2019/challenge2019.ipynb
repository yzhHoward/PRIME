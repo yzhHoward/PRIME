{
 "cells": [
  {
   "cell_type": "code",
   "execution_count": 1,
   "metadata": {
    "ExecuteTime": {
     "end_time": "2022-05-12T08:36:30.102674Z",
     "start_time": "2022-05-12T08:36:28.925800Z"
    }
   },
   "outputs": [],
   "source": [
    "import pandas as pd\n",
    "import numpy as np\n",
    "import os\n",
    "import pickle\n",
    "import tqdm\n",
    "import csv\n",
    "import matplotlib.pyplot as plt\n",
    "from matplotlib.backends.backend_pdf import PdfPages\n",
    "#from utils.path_utils import project_root\n",
    "\n",
    "data_path = './training/'\n",
    "\n",
    "training_examples = []\n",
    "training_files = [f for f in os.listdir(data_path) if f.endswith('.csv')]\n",
    "training_size = len(training_files)\n",
    "training_files.sort()"
   ]
  },
  {
   "cell_type": "code",
   "execution_count": 2,
   "metadata": {
    "ExecuteTime": {
     "end_time": "2022-05-12T08:36:53.412388Z",
     "start_time": "2022-05-12T08:36:32.728304Z"
    }
   },
   "outputs": [],
   "source": [
    "x = []\n",
    "demo = []\n",
    "y = []\n",
    "name = []\n",
    "all_x = [[] for i in range(40)]\n",
    "mean_x = []\n",
    "std_x = []\n",
    "min_x = []\n",
    "max_x = []\n",
    "med_x = []\n",
    "rec_cnt = []  #patient record length\n",
    "feature_name = []\n",
    "\n",
    "# Calc basic stats\n",
    "for fn in training_files:\n",
    "    name.append(int(fn[1:].split('.')[0]))\n",
    "    fn = data_path + fn\n",
    "    cur_cnt = 0\n",
    "    with open(fn, mode='r', encoding='utf-8') as f:\n",
    "        reader = csv.reader(f)\n",
    "        for row in reader:\n",
    "            cur_cnt += 1\n",
    "            if row[0] == \"HR\":\n",
    "                feature_name = row\n",
    "                continue\n",
    "            for i in range(len(row)-1): # Except label y\n",
    "                if row[i] != '':\n",
    "                    all_x[i].append(float(row[i]))\n",
    "    rec_cnt.append(cur_cnt - 1)\n",
    "    \n",
    "rec_cnt = np.array(rec_cnt)\n",
    "tot_rec_cnt = np.sum(rec_cnt)\n"
   ]
  },
  {
   "cell_type": "code",
   "execution_count": 3,
   "metadata": {
    "ExecuteTime": {
     "end_time": "2022-04-20T07:23:42.481087Z",
     "start_time": "2022-04-20T07:23:42.472691Z"
    }
   },
   "outputs": [
    {
     "name": "stdout",
     "output_type": "stream",
     "text": [
      "1552210\n"
     ]
    }
   ],
   "source": [
    "print(tot_rec_cnt)"
   ]
  },
  {
   "cell_type": "code",
   "execution_count": 4,
   "metadata": {
    "ExecuteTime": {
     "end_time": "2020-09-21T12:06:38.910254Z",
     "start_time": "2020-09-21T12:06:36.540084Z"
    }
   },
   "outputs": [
    {
     "data": {
      "image/png": "[encoded data removed]",
      "text/plain": [
       "<Figure size 432x288 with 1 Axes>"
      ]
     },
     "metadata": {
      "needs_background": "light"
     },
     "output_type": "display_data"
    },
    {
     "data": {
      "image/png": "[encoded data removed]",
      "text/plain": [
       "<Figure size 432x288 with 1 Axes>"
      ]
     },
     "metadata": {
      "needs_background": "light"
     },
     "output_type": "display_data"
    }
   ],
   "source": [
    "threshold = int(np.size(rec_cnt) * 0.005)\n",
    "cur = np.sort(rec_cnt)\n",
    "cur = cur[threshold: -threshold]\n",
    "pdf = PdfPages('./data/stat figures/chal_rec_len_part.pdf')\n",
    "plt.hist(cur, bins=30, color='steelblue', edgecolor='black')\n",
    "plt.title('Visits per patient')\n",
    "pdf.savefig()\n",
    "plt.show()\n",
    "pdf.close()\n",
    "\n",
    "pdf = PdfPages('./data/stat figures/chal_rec_len_full.pdf')\n",
    "plt.hist(rec_cnt, bins=30, color='steelblue', edgecolor='black')\n",
    "plt.title('Visits per patient')\n",
    "pdf.savefig()\n",
    "plt.show()\n",
    "pdf.close()"
   ]
  },
  {
   "cell_type": "code",
   "execution_count": 3,
   "metadata": {
    "ExecuteTime": {
     "end_time": "2022-05-12T08:38:08.311675Z",
     "start_time": "2022-05-12T08:38:05.066606Z"
    },
    "scrolled": true
   },
   "outputs": [
    {
     "name": "stdout",
     "output_type": "stream",
     "text": [
      "TroponinI\n",
      "cnt: 14781 mean: 8.2901 std: 24.8054 max: 440.0000 min: 0.0100 median: 0.3000 miss_rate: 0.9905\n",
      "Hgb\n",
      "cnt: 114591 mean: 10.4308 std: 1.9687 max: 32.0000 min: 2.2000 median: 10.3000 miss_rate: 0.9262\n",
      "Chloride\n",
      "cnt: 70466 mean: 105.8279 std: 5.8804 max: 145.0000 min: 26.0000 median: 106.0000 miss_rate: 0.9546\n",
      "Alkalinephos\n",
      "cnt: 24941 mean: 102.4837 std: 120.1203 max: 3833.0000 min: 7.0000 median: 74.0000 miss_rate: 0.9839\n",
      "Bilirubin_total\n",
      "cnt: 23141 mean: 2.1141 std: 4.3114 max: 49.6000 min: 0.1000 median: 0.9000 miss_rate: 0.9851\n",
      "Platelets\n",
      "cnt: 92209 mean: 196.0139 std: 103.6348 max: 2322.0000 min: 1.0000 median: 181.0000 miss_rate: 0.9406\n",
      "Hct\n",
      "cnt: 137433 mean: 30.7941 std: 5.4917 max: 71.7000 min: 5.5000 median: 30.3000 miss_rate: 0.9115\n",
      "WBC\n",
      "cnt: 99447 mean: 11.4464 std: 7.7310 max: 440.0000 min: 0.1000 median: 10.3000 miss_rate: 0.9359\n",
      "Fibrinogen\n",
      "cnt: 10242 mean: 287.3857 std: 152.9954 max: 1760.0000 min: 34.0000 median: 250.0000 miss_rate: 0.9934\n",
      "BUN\n",
      "cnt: 106568 mean: 23.9155 std: 19.9942 max: 268.0000 min: 1.0000 median: 17.0000 miss_rate: 0.9313\n",
      "pH\n",
      "cnt: 107573 mean: 7.3789 std: 0.0746 max: 7.9300 min: 6.6200 median: 7.3800 miss_rate: 0.9307\n",
      "Potassium\n",
      "cnt: 144525 mean: 4.1355 std: 0.6421 max: 27.5000 min: 1.0000 median: 4.1000 miss_rate: 0.9069\n",
      "Glucose\n",
      "cnt: 265516 mean: 136.9323 std: 51.3106 max: 988.0000 min: 10.0000 median: 127.0000 miss_rate: 0.8289\n",
      "Bilirubin_direct\n",
      "cnt: 2990 mean: 1.8362 std: 3.6935 max: 37.5000 min: 0.0100 median: 0.4450 miss_rate: 0.9981\n",
      "HCO3\n",
      "cnt: 65028 mean: 24.0755 std: 4.3765 max: 55.0000 min: 0.0000 median: 24.0000 miss_rate: 0.9581\n",
      "Calcium\n",
      "cnt: 91331 mean: 7.5575 std: 2.4331 max: 27.9000 min: 1.0000 median: 8.3000 miss_rate: 0.9412\n",
      "PTT\n",
      "cnt: 45699 mean: 41.2312 std: 26.2174 max: 250.0000 min: 12.5000 median: 32.4000 miss_rate: 0.9706\n",
      "Creatinine\n",
      "cnt: 94616 mean: 1.5107 std: 1.8056 max: 46.6000 min: 0.1000 median: 0.9400 miss_rate: 0.9390\n"
     ]
    }
   ],
   "source": [
    "index = [27, 29, 18, 16, 26, 33, 28, 31, 32, 15, 11, 25, 21, 20, 9, 17, 30, 19]\n",
    "for i in range(40):\n",
    "    cur = np.array(all_x[i])\n",
    "    mean_x.append(np.mean(cur))\n",
    "    std_x.append(np.std(cur))\n",
    "    min_x.append(np.min(cur))\n",
    "    max_x.append(np.max(cur))\n",
    "    med_x.append(np.median(cur))\n",
    "#     if i in index:\n",
    "#         pdf = PdfPages('./data/stat figures/chal_' +feature_name[i] +'_full.pdf')\n",
    "#         plt.hist(cur, bins=30, color='steelblue', edgecolor='black')\n",
    "#         plt.title(feature_name[i])\n",
    "#         pdf.savefig()\n",
    "#         plt.show()\n",
    "#         pdf.close()\n",
    "    \n",
    "stat = {'mean': mean_x, 'std': std_x, 'min': min_x, 'max': max_x, 'median': med_x}\n",
    "\n",
    "# stat_fn_1 = 'challenge_full_stat.csv'\n",
    "# stat_f1 = open(stat_fn_1, 'w', encoding='utf-8')\n",
    "# writer1 = csv.writer(stat_f1)\n",
    "# writer1.writerow(['feature_name', 'cnt', 'mean', 'std', 'max', 'min', 'median', 'missing_rate'])\n",
    "\n",
    "for id in index:\n",
    "    print(feature_name[id])\n",
    "    print('cnt: %d mean: %.4f std: %.4f max: %.4f min: %.4f median: %.4f miss_rate: %.4f' \\\n",
    "          % (len(all_x[id]), mean_x[id], std_x[id], max_x[id], min_x[id], med_x[id], 1-len(all_x[id])/tot_rec_cnt))\n",
    "#     writer1.writerow([feature_name[id], str(len(all_x[id])), str(mean_x[id]), \\\n",
    "#                       str(std_x[id]), str(max_x[id]), str(min_x[id]), str(med_x[id]), str(1-len(all_x[id])/tot_rec_cnt)])\n",
    "    \n",
    "# for id in range(40):\n",
    "#     if id not in index:\n",
    "#         writer1.writerow([feature_name[id], str(len(all_x[id])), str(mean_x[id]), \\\n",
    "#                       str(std_x[id]), str(max_x[id]), str(min_x[id]), str(med_x[id]), str(1-len(all_x[id])/tot_rec_cnt)])\n",
    "\n",
    "# writer1.writerow(['patient record', str(np.size(rec_cnt)), str(np.mean(rec_cnt)), str(np.std(rec_cnt)), \\\n",
    "#                   str(np.max(rec_cnt)), str(np.min(rec_cnt)), str(np.median(rec_cnt)), '0'])\n",
    "# stat_f1.close()\n"
   ]
  },
  {
   "cell_type": "code",
   "execution_count": 6,
   "metadata": {
    "ExecuteTime": {
     "end_time": "2020-06-29T13:25:49.620678Z",
     "start_time": "2020-06-29T13:25:41.179013Z"
    },
    "scrolled": true
   },
   "outputs": [
    {
     "data": {
      "image/png": "[encoded data removed]",
      "text/plain": [
       "<Figure size 432x288 with 1 Axes>"
      ]
     },
     "metadata": {
      "needs_background": "light"
     },
     "output_type": "display_data"
    },
    {
     "name": "stdout",
     "output_type": "stream",
     "text": [
      "TroponinI\n",
      "cnt: 14635 mean: 7.2548 std: 19.2134 max: 200.0000 min: 0.0100 median: 0.3000\n"
     ]
    },
    {
     "data": {
      "image/png": "[encoded data removed]",
      "text/plain": [
       "<Figure size 432x288 with 1 Axes>"
      ]
     },
     "metadata": {
      "needs_background": "light"
     },
     "output_type": "display_data"
    },
    {
     "name": "stdout",
     "output_type": "stream",
     "text": [
      "Hgb\n",
      "cnt: 113447 mean: 10.4203 std: 1.8747 max: 16.2000 min: 6.1000 median: 10.3000\n"
     ]
    },
    {
     "data": {
      "image/png": "[encoded data removed]",
      "text/plain": [
       "<Figure size 432x288 with 1 Axes>"
      ]
     },
     "metadata": {
      "needs_background": "light"
     },
     "output_type": "display_data"
    },
    {
     "name": "stdout",
     "output_type": "stream",
     "text": [
      "Chloride\n",
      "cnt: 69762 mean: 105.8267 std: 5.4485 max: 123.0000 min: 88.0000 median: 106.0000\n"
     ]
    },
    {
     "data": {
      "image/png": "[encoded data removed]",
      "text/plain": [
       "<Figure size 432x288 with 1 Axes>"
      ]
     },
     "metadata": {
      "needs_background": "light"
     },
     "output_type": "display_data"
    },
    {
     "name": "stdout",
     "output_type": "stream",
     "text": [
      "Alkalinephos\n",
      "cnt: 24693 mean: 97.2970 std: 80.2259 max: 762.0000 min: 22.0000 median: 74.0000\n"
     ]
    },
    {
     "data": {
      "image/png": "[encoded data removed]",
      "text/plain": [
       "<Figure size 432x288 with 1 Axes>"
      ]
     },
     "metadata": {
      "needs_background": "light"
     },
     "output_type": "display_data"
    },
    {
     "name": "stdout",
     "output_type": "stream",
     "text": [
      "Bilirubin_total\n",
      "cnt: 22911 mean: 1.9457 std: 3.5040 max: 30.9000 min: 0.1000 median: 0.9000\n"
     ]
    },
    {
     "data": {
      "image/png": "[encoded data removed]",
      "text/plain": [
       "<Figure size 432x288 with 1 Axes>"
      ]
     },
     "metadata": {
      "needs_background": "light"
     },
     "output_type": "display_data"
    },
    {
     "name": "stdout",
     "output_type": "stream",
     "text": [
      "Platelets\n",
      "cnt: 91287 mean: 194.0384 std: 94.2699 max: 626.0000 min: 24.0000 median: 181.0000\n"
     ]
    },
    {
     "data": {
      "image/png": "[encoded data removed]",
      "text/plain": [
       "<Figure size 432x288 with 1 Axes>"
      ]
     },
     "metadata": {
      "needs_background": "light"
     },
     "output_type": "display_data"
    },
    {
     "name": "stdout",
     "output_type": "stream",
     "text": [
      "Hct\n",
      "cnt: 136059 mean: 30.7679 std: 5.2382 max: 47.1000 min: 18.0000 median: 30.3000\n"
     ]
    },
    {
     "data": {
      "image/png": "[encoded data removed]",
      "text/plain": [
       "<Figure size 432x288 with 1 Axes>"
      ]
     },
     "metadata": {
      "needs_background": "light"
     },
     "output_type": "display_data"
    },
    {
     "name": "stdout",
     "output_type": "stream",
     "text": [
      "WBC\n",
      "cnt: 98453 mean: 11.2007 std: 5.1278 max: 37.6000 min: 1.7000 median: 10.3000\n"
     ]
    },
    {
     "data": {
      "image/png": "[encoded data removed]",
      "text/plain": [
       "<Figure size 432x288 with 1 Axes>"
      ]
     },
     "metadata": {
      "needs_background": "light"
     },
     "output_type": "display_data"
    },
    {
     "name": "stdout",
     "output_type": "stream",
     "text": [
      "Fibrinogen\n",
      "cnt: 10140 mean: 284.9921 std: 143.6898 max: 888.0000 min: 59.0000 median: 250.0000\n"
     ]
    },
    {
     "data": {
      "image/png": "[encoded data removed]",
      "text/plain": [
       "<Figure size 432x288 with 1 Axes>"
      ]
     },
     "metadata": {
      "needs_background": "light"
     },
     "output_type": "display_data"
    },
    {
     "name": "stdout",
     "output_type": "stream",
     "text": [
      "BUN\n",
      "cnt: 105504 mean: 23.4497 std: 18.2512 max: 118.0000 min: 3.0000 median: 17.0000\n"
     ]
    },
    {
     "data": {
      "image/png": "[encoded data removed]",
      "text/plain": [
       "<Figure size 432x288 with 1 Axes>"
      ]
     },
     "metadata": {
      "needs_background": "light"
     },
     "output_type": "display_data"
    },
    {
     "name": "stdout",
     "output_type": "stream",
     "text": [
      "pH\n",
      "cnt: 106499 mean: 7.3797 std: 0.0687 max: 7.5500 min: 7.1000 median: 7.3800\n"
     ]
    },
    {
     "data": {
      "image/png": "[encoded data removed]",
      "text/plain": [
       "<Figure size 432x288 with 1 Axes>"
      ]
     },
     "metadata": {
      "needs_background": "light"
     },
     "output_type": "display_data"
    },
    {
     "name": "stdout",
     "output_type": "stream",
     "text": [
      "Potassium\n",
      "cnt: 143081 mean: 4.1266 std: 0.5794 max: 6.6000 min: 2.7000 median: 4.1000\n"
     ]
    },
    {
     "data": {
      "image/png": "[encoded data removed]",
      "text/plain": [
       "<Figure size 432x288 with 1 Axes>"
      ]
     },
     "metadata": {
      "needs_background": "light"
     },
     "output_type": "display_data"
    },
    {
     "name": "stdout",
     "output_type": "stream",
     "text": [
      "Glucose\n",
      "cnt: 262862 mean: 135.7096 std: 44.8164 max: 377.0000 min: 57.0000 median: 127.0000\n"
     ]
    },
    {
     "data": {
      "image/png": "[encoded data removed]",
      "text/plain": [
       "<Figure size 432x288 with 1 Axes>"
      ]
     },
     "metadata": {
      "needs_background": "light"
     },
     "output_type": "display_data"
    },
    {
     "name": "stdout",
     "output_type": "stream",
     "text": [
      "Bilirubin_direct\n",
      "cnt: 2962 mean: 1.7213 std: 3.2298 max: 22.6800 min: 0.0300 median: 0.4450\n"
     ]
    },
    {
     "data": {
      "image/png": "[encoded data removed]",
      "text/plain": [
       "<Figure size 432x288 with 1 Axes>"
      ]
     },
     "metadata": {
      "needs_background": "light"
     },
     "output_type": "display_data"
    },
    {
     "name": "stdout",
     "output_type": "stream",
     "text": [
      "HCO3\n",
      "cnt: 64378 mean: 24.0632 std: 4.0643 max: 39.0000 min: 11.0000 median: 24.0000\n"
     ]
    },
    {
     "data": {
      "image/png": "[encoded data removed]",
      "text/plain": [
       "<Figure size 432x288 with 1 Axes>"
      ]
     },
     "metadata": {
      "needs_background": "light"
     },
     "output_type": "display_data"
    },
    {
     "name": "stdout",
     "output_type": "stream",
     "text": [
      "Calcium\n",
      "cnt: 90419 mean: 7.5521 std: 2.3296 max: 11.4500 min: 1.0500 median: 8.3000\n"
     ]
    },
    {
     "data": {
      "image/png": "[encoded data removed]",
      "text/plain": [
       "<Figure size 432x288 with 1 Axes>"
      ]
     },
     "metadata": {
      "needs_background": "light"
     },
     "output_type": "display_data"
    },
    {
     "name": "stdout",
     "output_type": "stream",
     "text": [
      "PTT\n",
      "cnt: 45243 mean: 40.4755 std: 23.1131 max: 150.0000 min: 20.2000 median: 32.4000\n"
     ]
    },
    {
     "data": {
      "image/png": "[encoded data removed]",
      "text/plain": [
       "<Figure size 432x288 with 1 Axes>"
      ]
     },
     "metadata": {
      "needs_background": "light"
     },
     "output_type": "display_data"
    },
    {
     "name": "stdout",
     "output_type": "stream",
     "text": [
      "Creatinine\n",
      "cnt: 93670 mean: 1.4479 std: 1.5050 max: 11.7000 min: 0.3000 median: 0.9400\n"
     ]
    }
   ],
   "source": [
    "stat_fn_2 = 'challenge_part_stat.csv'\n",
    "stat_f2 = open(stat_fn_2, 'w', encoding='utf-8')\n",
    "writer2 = csv.writer(stat_f2)\n",
    "writer2.writerow(['feature_name', 'cnt', 'mean', 'std', 'max', 'min', 'median'])\n",
    "\n",
    "for i in index:\n",
    "    cur = np.array(all_x[i])\n",
    "    cur = np.sort(cur)\n",
    "    threshold = int(len(all_x[i]) * 0.005)\n",
    "    cur = cur[threshold: -threshold]\n",
    "    tmp_mean = np.mean(cur)\n",
    "    tmp_std = np.std(cur)\n",
    "    tmp_min = np.min(cur)\n",
    "    tmp_max = np.max(cur)\n",
    "    tmp_med  = np.median(cur)\n",
    "    pdf = PdfPages('./data/stat figures/chal_' +feature_name[i] +'_part.pdf')\n",
    "    plt.hist(cur, bins=30, color='steelblue', edgecolor='black')\n",
    "    plt.title(feature_name[i])\n",
    "    pdf.savefig()\n",
    "    plt.show()\n",
    "    pdf.close()\n",
    "    print(feature_name[i])\n",
    "    print('cnt: %d mean: %.4f std: %.4f max: %.4f min: %.4f median: %.4f' \\\n",
    "          % (np.size(cur), tmp_mean, tmp_std, tmp_max, tmp_min, tmp_med))\n",
    "    writer2.writerow([feature_name[i], str(np.size(cur)), str(tmp_mean), \\\n",
    "                      str(tmp_std), str(tmp_max), str(tmp_min), str(tmp_med)])\n",
    "    \n",
    "for i in range(40):\n",
    "    if i not in index:\n",
    "        cur = np.array(all_x[i])\n",
    "        cur = np.sort(cur)\n",
    "        threshold = int(len(all_x[i]) * 0.005)\n",
    "        cur = cur[threshold: -threshold]\n",
    "        tmp_mean = np.mean(cur)\n",
    "        tmp_std = np.std(cur)\n",
    "        tmp_min = np.min(cur)\n",
    "        tmp_max = np.max(cur)\n",
    "        tmp_med  = np.median(cur)\n",
    "        writer2.writerow([feature_name[i], str(np.size(cur)), str(tmp_mean), \\\n",
    "                          str(tmp_std), str(tmp_max), str(tmp_min), str(tmp_med)])\n",
    "stat_f2.close()"
   ]
  },
  {
   "cell_type": "code",
   "execution_count": 4,
   "metadata": {
    "ExecuteTime": {
     "end_time": "2022-05-12T08:39:09.418336Z",
     "start_time": "2022-05-12T08:38:34.793895Z"
    },
    "scrolled": true
   },
   "outputs": [
    {
     "name": "stdout",
     "output_type": "stream",
     "text": [
      "processing: 100 of 40336, 0.2479 %...\n",
      "processing: 200 of 40336, 0.4958 %...\n",
      "processing: 300 of 40336, 0.7438 %...\n",
      "processing: 400 of 40336, 0.9917 %...\n",
      "processing: 500 of 40336, 1.2396 %...\n",
      "processing: 600 of 40336, 1.4875 %...\n",
      "processing: 700 of 40336, 1.7354 %...\n",
      "processing: 800 of 40336, 1.9833 %...\n",
      "processing: 900 of 40336, 2.2313 %...\n",
      "processing: 1000 of 40336, 2.4792 %...\n",
      "processing: 1100 of 40336, 2.7271 %...\n",
      "processing: 1200 of 40336, 2.9750 %...\n",
      "processing: 1300 of 40336, 3.2229 %...\n",
      "processing: 1400 of 40336, 3.4708 %...\n",
      "processing: 1500 of 40336, 3.7188 %...\n",
      "processing: 1600 of 40336, 3.9667 %...\n",
      "processing: 1700 of 40336, 4.2146 %...\n",
      "processing: 1800 of 40336, 4.4625 %...\n",
      "processing: 1900 of 40336, 4.7104 %...\n",
      "processing: 2000 of 40336, 4.9583 %...\n",
      "processing: 2100 of 40336, 5.2063 %...\n",
      "processing: 2200 of 40336, 5.4542 %...\n",
      "processing: 2300 of 40336, 5.7021 %...\n",
      "processing: 2400 of 40336, 5.9500 %...\n",
      "processing: 2500 of 40336, 6.1979 %...\n",
      "processing: 2600 of 40336, 6.4459 %...\n",
      "processing: 2700 of 40336, 6.6938 %...\n",
      "processing: 2800 of 40336, 6.9417 %...\n",
      "processing: 2900 of 40336, 7.1896 %...\n",
      "processing: 3000 of 40336, 7.4375 %...\n",
      "processing: 3100 of 40336, 7.6854 %...\n",
      "processing: 3200 of 40336, 7.9334 %...\n",
      "processing: 3300 of 40336, 8.1813 %...\n",
      "processing: 3400 of 40336, 8.4292 %...\n",
      "processing: 3500 of 40336, 8.6771 %...\n",
      "processing: 3600 of 40336, 8.9250 %...\n",
      "processing: 3700 of 40336, 9.1729 %...\n",
      "processing: 3800 of 40336, 9.4209 %...\n",
      "processing: 3900 of 40336, 9.6688 %...\n",
      "processing: 4000 of 40336, 9.9167 %...\n",
      "processing: 4100 of 40336, 10.1646 %...\n",
      "processing: 4200 of 40336, 10.4125 %...\n",
      "processing: 4300 of 40336, 10.6605 %...\n",
      "processing: 4400 of 40336, 10.9084 %...\n",
      "processing: 4500 of 40336, 11.1563 %...\n",
      "processing: 4600 of 40336, 11.4042 %...\n",
      "processing: 4700 of 40336, 11.6521 %...\n",
      "processing: 4800 of 40336, 11.9000 %...\n",
      "processing: 4900 of 40336, 12.1480 %...\n",
      "processing: 5000 of 40336, 12.3959 %...\n",
      "processing: 5100 of 40336, 12.6438 %...\n",
      "processing: 5200 of 40336, 12.8917 %...\n",
      "processing: 5300 of 40336, 13.1396 %...\n",
      "processing: 5400 of 40336, 13.3875 %...\n",
      "processing: 5500 of 40336, 13.6355 %...\n",
      "processing: 5600 of 40336, 13.8834 %...\n",
      "processing: 5700 of 40336, 14.1313 %...\n",
      "processing: 5800 of 40336, 14.3792 %...\n",
      "processing: 5900 of 40336, 14.6271 %...\n",
      "processing: 6000 of 40336, 14.8750 %...\n",
      "processing: 6100 of 40336, 15.1230 %...\n",
      "processing: 6200 of 40336, 15.3709 %...\n",
      "processing: 6300 of 40336, 15.6188 %...\n",
      "processing: 6400 of 40336, 15.8667 %...\n",
      "processing: 6500 of 40336, 16.1146 %...\n",
      "processing: 6600 of 40336, 16.3626 %...\n",
      "processing: 6700 of 40336, 16.6105 %...\n",
      "processing: 6800 of 40336, 16.8584 %...\n",
      "processing: 6900 of 40336, 17.1063 %...\n",
      "processing: 7000 of 40336, 17.3542 %...\n",
      "processing: 7100 of 40336, 17.6021 %...\n",
      "processing: 7200 of 40336, 17.8501 %...\n",
      "processing: 7300 of 40336, 18.0980 %...\n",
      "processing: 7400 of 40336, 18.3459 %...\n",
      "processing: 7500 of 40336, 18.5938 %...\n",
      "processing: 7600 of 40336, 18.8417 %...\n",
      "processing: 7700 of 40336, 19.0896 %...\n",
      "processing: 7800 of 40336, 19.3376 %...\n",
      "processing: 7900 of 40336, 19.5855 %...\n",
      "processing: 8000 of 40336, 19.8334 %...\n",
      "processing: 8100 of 40336, 20.0813 %...\n",
      "processing: 8200 of 40336, 20.3292 %...\n",
      "processing: 8300 of 40336, 20.5772 %...\n",
      "processing: 8400 of 40336, 20.8251 %...\n",
      "processing: 8500 of 40336, 21.0730 %...\n",
      "processing: 8600 of 40336, 21.3209 %...\n",
      "processing: 8700 of 40336, 21.5688 %...\n",
      "processing: 8800 of 40336, 21.8167 %...\n",
      "processing: 8900 of 40336, 22.0647 %...\n",
      "processing: 9000 of 40336, 22.3126 %...\n",
      "processing: 9100 of 40336, 22.5605 %...\n",
      "processing: 9200 of 40336, 22.8084 %...\n",
      "processing: 9300 of 40336, 23.0563 %...\n",
      "processing: 9400 of 40336, 23.3042 %...\n",
      "processing: 9500 of 40336, 23.5522 %...\n",
      "processing: 9600 of 40336, 23.8001 %...\n",
      "processing: 9700 of 40336, 24.0480 %...\n",
      "processing: 9800 of 40336, 24.2959 %...\n",
      "processing: 9900 of 40336, 24.5438 %...\n",
      "processing: 10000 of 40336, 24.7917 %...\n",
      "processing: 10100 of 40336, 25.0397 %...\n",
      "processing: 10200 of 40336, 25.2876 %...\n",
      "processing: 10300 of 40336, 25.5355 %...\n",
      "processing: 10400 of 40336, 25.7834 %...\n",
      "processing: 10500 of 40336, 26.0313 %...\n",
      "processing: 10600 of 40336, 26.2793 %...\n",
      "processing: 10700 of 40336, 26.5272 %...\n",
      "processing: 10800 of 40336, 26.7751 %...\n",
      "processing: 10900 of 40336, 27.0230 %...\n",
      "processing: 11000 of 40336, 27.2709 %...\n",
      "processing: 11100 of 40336, 27.5188 %...\n",
      "processing: 11200 of 40336, 27.7668 %...\n",
      "processing: 11300 of 40336, 28.0147 %...\n",
      "processing: 11400 of 40336, 28.2626 %...\n",
      "processing: 11500 of 40336, 28.5105 %...\n",
      "processing: 11600 of 40336, 28.7584 %...\n",
      "processing: 11700 of 40336, 29.0063 %...\n",
      "processing: 11800 of 40336, 29.2543 %...\n",
      "processing: 11900 of 40336, 29.5022 %...\n",
      "processing: 12000 of 40336, 29.7501 %...\n",
      "processing: 12100 of 40336, 29.9980 %...\n",
      "processing: 12200 of 40336, 30.2459 %...\n",
      "processing: 12300 of 40336, 30.4939 %...\n",
      "processing: 12400 of 40336, 30.7418 %...\n",
      "processing: 12500 of 40336, 30.9897 %...\n",
      "processing: 12600 of 40336, 31.2376 %...\n",
      "processing: 12700 of 40336, 31.4855 %...\n",
      "processing: 12800 of 40336, 31.7334 %...\n",
      "processing: 12900 of 40336, 31.9814 %...\n",
      "processing: 13000 of 40336, 32.2293 %...\n",
      "processing: 13100 of 40336, 32.4772 %...\n",
      "processing: 13200 of 40336, 32.7251 %...\n",
      "processing: 13300 of 40336, 32.9730 %...\n",
      "processing: 13400 of 40336, 33.2209 %...\n",
      "processing: 13500 of 40336, 33.4689 %...\n",
      "processing: 13600 of 40336, 33.7168 %...\n",
      "processing: 13700 of 40336, 33.9647 %...\n",
      "processing: 13800 of 40336, 34.2126 %...\n",
      "processing: 13900 of 40336, 34.4605 %...\n",
      "processing: 14000 of 40336, 34.7084 %...\n",
      "processing: 14100 of 40336, 34.9564 %...\n",
      "processing: 14200 of 40336, 35.2043 %...\n",
      "processing: 14300 of 40336, 35.4522 %...\n",
      "processing: 14400 of 40336, 35.7001 %...\n",
      "processing: 14500 of 40336, 35.9480 %...\n",
      "processing: 14600 of 40336, 36.1960 %...\n",
      "processing: 14700 of 40336, 36.4439 %...\n",
      "processing: 14800 of 40336, 36.6918 %...\n",
      "processing: 14900 of 40336, 36.9397 %...\n",
      "processing: 15000 of 40336, 37.1876 %...\n",
      "processing: 15100 of 40336, 37.4355 %...\n",
      "processing: 15200 of 40336, 37.6835 %...\n",
      "processing: 15300 of 40336, 37.9314 %...\n",
      "processing: 15400 of 40336, 38.1793 %...\n",
      "processing: 15500 of 40336, 38.4272 %...\n",
      "processing: 15600 of 40336, 38.6751 %...\n",
      "processing: 15700 of 40336, 38.9230 %...\n",
      "processing: 15800 of 40336, 39.1710 %...\n",
      "processing: 15900 of 40336, 39.4189 %...\n",
      "processing: 16000 of 40336, 39.6668 %...\n",
      "processing: 16100 of 40336, 39.9147 %...\n",
      "processing: 16200 of 40336, 40.1626 %...\n",
      "processing: 16300 of 40336, 40.4106 %...\n",
      "processing: 16400 of 40336, 40.6585 %...\n",
      "processing: 16500 of 40336, 40.9064 %...\n",
      "processing: 16600 of 40336, 41.1543 %...\n",
      "processing: 16700 of 40336, 41.4022 %...\n",
      "processing: 16800 of 40336, 41.6501 %...\n",
      "processing: 16900 of 40336, 41.8981 %...\n",
      "processing: 17000 of 40336, 42.1460 %...\n",
      "processing: 17100 of 40336, 42.3939 %...\n",
      "processing: 17200 of 40336, 42.6418 %...\n",
      "processing: 17300 of 40336, 42.8897 %...\n",
      "processing: 17400 of 40336, 43.1376 %...\n",
      "processing: 17500 of 40336, 43.3856 %...\n",
      "processing: 17600 of 40336, 43.6335 %...\n",
      "processing: 17700 of 40336, 43.8814 %...\n",
      "processing: 17800 of 40336, 44.1293 %...\n",
      "processing: 17900 of 40336, 44.3772 %...\n",
      "processing: 18000 of 40336, 44.6251 %...\n",
      "processing: 18100 of 40336, 44.8731 %...\n",
      "processing: 18200 of 40336, 45.1210 %...\n",
      "processing: 18300 of 40336, 45.3689 %...\n",
      "processing: 18400 of 40336, 45.6168 %...\n",
      "processing: 18500 of 40336, 45.8647 %...\n",
      "processing: 18600 of 40336, 46.1127 %...\n",
      "processing: 18700 of 40336, 46.3606 %...\n",
      "processing: 18800 of 40336, 46.6085 %...\n",
      "processing: 18900 of 40336, 46.8564 %...\n",
      "processing: 19000 of 40336, 47.1043 %...\n",
      "processing: 19100 of 40336, 47.3522 %...\n",
      "processing: 19200 of 40336, 47.6002 %...\n",
      "processing: 19300 of 40336, 47.8481 %...\n",
      "processing: 19400 of 40336, 48.0960 %...\n",
      "processing: 19500 of 40336, 48.3439 %...\n",
      "processing: 19600 of 40336, 48.5918 %...\n",
      "processing: 19700 of 40336, 48.8397 %...\n",
      "processing: 19800 of 40336, 49.0877 %...\n",
      "processing: 19900 of 40336, 49.3356 %...\n",
      "processing: 20000 of 40336, 49.5835 %...\n",
      "processing: 20100 of 40336, 49.8314 %...\n",
      "processing: 20200 of 40336, 50.0793 %...\n",
      "processing: 20300 of 40336, 50.3273 %...\n",
      "processing: 20400 of 40336, 50.5752 %...\n",
      "processing: 20500 of 40336, 50.8231 %...\n",
      "processing: 20600 of 40336, 51.0710 %...\n",
      "processing: 20700 of 40336, 51.3189 %...\n"
     ]
    },
    {
     "name": "stdout",
     "output_type": "stream",
     "text": [
      "processing: 20800 of 40336, 51.5668 %...\n",
      "processing: 20900 of 40336, 51.8148 %...\n",
      "processing: 21000 of 40336, 52.0627 %...\n",
      "processing: 21100 of 40336, 52.3106 %...\n",
      "processing: 21200 of 40336, 52.5585 %...\n",
      "processing: 21300 of 40336, 52.8064 %...\n",
      "processing: 21400 of 40336, 53.0543 %...\n",
      "processing: 21500 of 40336, 53.3023 %...\n",
      "processing: 21600 of 40336, 53.5502 %...\n",
      "processing: 21700 of 40336, 53.7981 %...\n",
      "processing: 21800 of 40336, 54.0460 %...\n",
      "processing: 21900 of 40336, 54.2939 %...\n",
      "processing: 22000 of 40336, 54.5418 %...\n",
      "processing: 22100 of 40336, 54.7898 %...\n",
      "processing: 22200 of 40336, 55.0377 %...\n",
      "processing: 22300 of 40336, 55.2856 %...\n",
      "processing: 22400 of 40336, 55.5335 %...\n",
      "processing: 22500 of 40336, 55.7814 %...\n",
      "processing: 22600 of 40336, 56.0294 %...\n",
      "processing: 22700 of 40336, 56.2773 %...\n",
      "processing: 22800 of 40336, 56.5252 %...\n",
      "processing: 22900 of 40336, 56.7731 %...\n",
      "processing: 23000 of 40336, 57.0210 %...\n",
      "processing: 23100 of 40336, 57.2689 %...\n",
      "processing: 23200 of 40336, 57.5169 %...\n",
      "processing: 23300 of 40336, 57.7648 %...\n",
      "processing: 23400 of 40336, 58.0127 %...\n",
      "processing: 23500 of 40336, 58.2606 %...\n",
      "processing: 23600 of 40336, 58.5085 %...\n",
      "processing: 23700 of 40336, 58.7564 %...\n",
      "processing: 23800 of 40336, 59.0044 %...\n",
      "processing: 23900 of 40336, 59.2523 %...\n",
      "processing: 24000 of 40336, 59.5002 %...\n",
      "processing: 24100 of 40336, 59.7481 %...\n",
      "processing: 24200 of 40336, 59.9960 %...\n",
      "processing: 24300 of 40336, 60.2440 %...\n",
      "processing: 24400 of 40336, 60.4919 %...\n",
      "processing: 24500 of 40336, 60.7398 %...\n",
      "processing: 24600 of 40336, 60.9877 %...\n",
      "processing: 24700 of 40336, 61.2356 %...\n",
      "processing: 24800 of 40336, 61.4835 %...\n",
      "processing: 24900 of 40336, 61.7315 %...\n",
      "processing: 25000 of 40336, 61.9794 %...\n",
      "processing: 25100 of 40336, 62.2273 %...\n",
      "processing: 25200 of 40336, 62.4752 %...\n",
      "processing: 25300 of 40336, 62.7231 %...\n",
      "processing: 25400 of 40336, 62.9710 %...\n",
      "processing: 25500 of 40336, 63.2190 %...\n",
      "processing: 25600 of 40336, 63.4669 %...\n",
      "processing: 25700 of 40336, 63.7148 %...\n",
      "processing: 25800 of 40336, 63.9627 %...\n",
      "processing: 25900 of 40336, 64.2106 %...\n",
      "processing: 26000 of 40336, 64.4585 %...\n",
      "processing: 26100 of 40336, 64.7065 %...\n",
      "processing: 26200 of 40336, 64.9544 %...\n",
      "processing: 26300 of 40336, 65.2023 %...\n",
      "processing: 26400 of 40336, 65.4502 %...\n",
      "processing: 26500 of 40336, 65.6981 %...\n",
      "processing: 26600 of 40336, 65.9461 %...\n",
      "processing: 26700 of 40336, 66.1940 %...\n",
      "processing: 26800 of 40336, 66.4419 %...\n",
      "processing: 26900 of 40336, 66.6898 %...\n",
      "processing: 27000 of 40336, 66.9377 %...\n",
      "processing: 27100 of 40336, 67.1856 %...\n",
      "processing: 27200 of 40336, 67.4336 %...\n",
      "processing: 27300 of 40336, 67.6815 %...\n",
      "processing: 27400 of 40336, 67.9294 %...\n",
      "processing: 27500 of 40336, 68.1773 %...\n",
      "processing: 27600 of 40336, 68.4252 %...\n",
      "processing: 27700 of 40336, 68.6731 %...\n",
      "processing: 27800 of 40336, 68.9211 %...\n",
      "processing: 27900 of 40336, 69.1690 %...\n",
      "processing: 28000 of 40336, 69.4169 %...\n",
      "processing: 28100 of 40336, 69.6648 %...\n",
      "processing: 28200 of 40336, 69.9127 %...\n",
      "processing: 28300 of 40336, 70.1607 %...\n",
      "processing: 28400 of 40336, 70.4086 %...\n",
      "processing: 28500 of 40336, 70.6565 %...\n",
      "processing: 28600 of 40336, 70.9044 %...\n",
      "processing: 28700 of 40336, 71.1523 %...\n",
      "processing: 28800 of 40336, 71.4002 %...\n",
      "processing: 28900 of 40336, 71.6482 %...\n",
      "processing: 29000 of 40336, 71.8961 %...\n",
      "processing: 29100 of 40336, 72.1440 %...\n",
      "processing: 29200 of 40336, 72.3919 %...\n",
      "processing: 29300 of 40336, 72.6398 %...\n",
      "processing: 29400 of 40336, 72.8877 %...\n",
      "processing: 29500 of 40336, 73.1357 %...\n",
      "processing: 29600 of 40336, 73.3836 %...\n",
      "processing: 29700 of 40336, 73.6315 %...\n",
      "processing: 29800 of 40336, 73.8794 %...\n",
      "processing: 29900 of 40336, 74.1273 %...\n",
      "processing: 30000 of 40336, 74.3752 %...\n",
      "processing: 30100 of 40336, 74.6232 %...\n",
      "processing: 30200 of 40336, 74.8711 %...\n",
      "processing: 30300 of 40336, 75.1190 %...\n",
      "processing: 30400 of 40336, 75.3669 %...\n",
      "processing: 30500 of 40336, 75.6148 %...\n",
      "processing: 30600 of 40336, 75.8628 %...\n",
      "processing: 30700 of 40336, 76.1107 %...\n",
      "processing: 30800 of 40336, 76.3586 %...\n",
      "processing: 30900 of 40336, 76.6065 %...\n",
      "processing: 31000 of 40336, 76.8544 %...\n",
      "processing: 31100 of 40336, 77.1023 %...\n",
      "processing: 31200 of 40336, 77.3503 %...\n",
      "processing: 31300 of 40336, 77.5982 %...\n",
      "processing: 31400 of 40336, 77.8461 %...\n",
      "processing: 31500 of 40336, 78.0940 %...\n",
      "processing: 31600 of 40336, 78.3419 %...\n",
      "processing: 31700 of 40336, 78.5898 %...\n",
      "processing: 31800 of 40336, 78.8378 %...\n",
      "processing: 31900 of 40336, 79.0857 %...\n",
      "processing: 32000 of 40336, 79.3336 %...\n",
      "processing: 32100 of 40336, 79.5815 %...\n",
      "processing: 32200 of 40336, 79.8294 %...\n",
      "processing: 32300 of 40336, 80.0774 %...\n",
      "processing: 32400 of 40336, 80.3253 %...\n",
      "processing: 32500 of 40336, 80.5732 %...\n",
      "processing: 32600 of 40336, 80.8211 %...\n",
      "processing: 32700 of 40336, 81.0690 %...\n",
      "processing: 32800 of 40336, 81.3169 %...\n",
      "processing: 32900 of 40336, 81.5649 %...\n",
      "processing: 33000 of 40336, 81.8128 %...\n",
      "processing: 33100 of 40336, 82.0607 %...\n",
      "processing: 33200 of 40336, 82.3086 %...\n",
      "processing: 33300 of 40336, 82.5565 %...\n",
      "processing: 33400 of 40336, 82.8044 %...\n",
      "processing: 33500 of 40336, 83.0524 %...\n",
      "processing: 33600 of 40336, 83.3003 %...\n",
      "processing: 33700 of 40336, 83.5482 %...\n",
      "processing: 33800 of 40336, 83.7961 %...\n",
      "processing: 33900 of 40336, 84.0440 %...\n",
      "processing: 34000 of 40336, 84.2919 %...\n",
      "processing: 34100 of 40336, 84.5399 %...\n",
      "processing: 34200 of 40336, 84.7878 %...\n",
      "processing: 34300 of 40336, 85.0357 %...\n",
      "processing: 34400 of 40336, 85.2836 %...\n",
      "processing: 34500 of 40336, 85.5315 %...\n",
      "processing: 34600 of 40336, 85.7795 %...\n",
      "processing: 34700 of 40336, 86.0274 %...\n",
      "processing: 34800 of 40336, 86.2753 %...\n",
      "processing: 34900 of 40336, 86.5232 %...\n",
      "processing: 35000 of 40336, 86.7711 %...\n",
      "processing: 35100 of 40336, 87.0190 %...\n",
      "processing: 35200 of 40336, 87.2670 %...\n",
      "processing: 35300 of 40336, 87.5149 %...\n",
      "processing: 35400 of 40336, 87.7628 %...\n",
      "processing: 35500 of 40336, 88.0107 %...\n",
      "processing: 35600 of 40336, 88.2586 %...\n",
      "processing: 35700 of 40336, 88.5065 %...\n",
      "processing: 35800 of 40336, 88.7545 %...\n",
      "processing: 35900 of 40336, 89.0024 %...\n",
      "processing: 36000 of 40336, 89.2503 %...\n",
      "processing: 36100 of 40336, 89.4982 %...\n",
      "processing: 36200 of 40336, 89.7461 %...\n",
      "processing: 36300 of 40336, 89.9940 %...\n",
      "processing: 36400 of 40336, 90.2420 %...\n",
      "processing: 36500 of 40336, 90.4899 %...\n",
      "processing: 36600 of 40336, 90.7378 %...\n",
      "processing: 36700 of 40336, 90.9857 %...\n",
      "processing: 36800 of 40336, 91.2336 %...\n",
      "processing: 36900 of 40336, 91.4816 %...\n",
      "processing: 37000 of 40336, 91.7295 %...\n",
      "processing: 37100 of 40336, 91.9774 %...\n",
      "processing: 37200 of 40336, 92.2253 %...\n",
      "processing: 37300 of 40336, 92.4732 %...\n",
      "processing: 37400 of 40336, 92.7211 %...\n",
      "processing: 37500 of 40336, 92.9691 %...\n",
      "processing: 37600 of 40336, 93.2170 %...\n",
      "processing: 37700 of 40336, 93.4649 %...\n",
      "processing: 37800 of 40336, 93.7128 %...\n",
      "processing: 37900 of 40336, 93.9607 %...\n",
      "processing: 38000 of 40336, 94.2086 %...\n",
      "processing: 38100 of 40336, 94.4566 %...\n",
      "processing: 38200 of 40336, 94.7045 %...\n",
      "processing: 38300 of 40336, 94.9524 %...\n",
      "processing: 38400 of 40336, 95.2003 %...\n",
      "processing: 38500 of 40336, 95.4482 %...\n",
      "processing: 38600 of 40336, 95.6962 %...\n",
      "processing: 38700 of 40336, 95.9441 %...\n",
      "processing: 38800 of 40336, 96.1920 %...\n",
      "processing: 38900 of 40336, 96.4399 %...\n",
      "processing: 39000 of 40336, 96.6878 %...\n",
      "processing: 39100 of 40336, 96.9357 %...\n",
      "processing: 39200 of 40336, 97.1837 %...\n",
      "processing: 39300 of 40336, 97.4316 %...\n",
      "processing: 39400 of 40336, 97.6795 %...\n",
      "processing: 39500 of 40336, 97.9274 %...\n",
      "processing: 39600 of 40336, 98.1753 %...\n",
      "processing: 39700 of 40336, 98.4232 %...\n",
      "processing: 39800 of 40336, 98.6712 %...\n",
      "processing: 39900 of 40336, 98.9191 %...\n",
      "processing: 40000 of 40336, 99.1670 %...\n",
      "processing: 40100 of 40336, 99.4149 %...\n",
      "processing: 40200 of 40336, 99.6628 %...\n",
      "processing: 40300 of 40336, 99.9107 %...\n"
     ]
    }
   ],
   "source": [
    "cnt = 0\n",
    "x = []\n",
    "demo = []\n",
    "y = []\n",
    "mask_x = []\n",
    "mask_demo = []\n",
    "name = []\n",
    "# Normalize and dump data\n",
    "for fn in training_files:\n",
    "    cnt += 1\n",
    "    name.append(int(fn[1:].split('.')[0]))\n",
    "    fn = data_path + fn\n",
    "    cur_x = []\n",
    "    cur_demo = []\n",
    "    cur_y = []\n",
    "    cur_mask_x = []\n",
    "    cur_mask_demo = []\n",
    "    with open(fn, mode='r', encoding='utf-8') as f:\n",
    "        reader = csv.reader(f)\n",
    "        for row in reader:\n",
    "            mask_list = [1 for i in range(len(row)-1)]\n",
    "            if row[0] == \"HR\":\n",
    "                continue\n",
    "            for i in range(len(row)-1):\n",
    "                if row[i] == '':\n",
    "                    row[i] = 0\n",
    "                    mask_list[i] = 0\n",
    "                else:\n",
    "                    row[i] = (float(row[i]) - mean_x[i]) / std_x[i]\n",
    "            cur_x.append(row[0:34])\n",
    "            if len(cur_demo) > 0 and cur_demo[2] != row[36]:\n",
    "                print(\"Unit 1 Diff!\")\n",
    "            if len(cur_demo) > 0 and cur_demo[3] != row[37]:\n",
    "                print(\"Unit 2 Diff!\")\n",
    "            cur_demo = row[34:39]\n",
    "            \n",
    "            cur_y.append(0 if row[-1] == '' else int(row[-1]))\n",
    "            cur_mask_x.append(mask_list[0:34])\n",
    "            cur_mask_demo = mask_list[34:39]\n",
    "    if cnt % 100 == 0:\n",
    "        print('processing: %d of %d, %.4f %%...' % (cnt, training_size, 100*(cnt/training_size)))\n",
    "    x.append(cur_x)\n",
    "    demo.append(cur_demo)\n",
    "    y.append(cur_y)\n",
    "    mask_x.append(cur_mask_x)\n",
    "    mask_demo.append(cur_mask_demo)"
   ]
  },
  {
   "cell_type": "code",
   "execution_count": 6,
   "metadata": {
    "ExecuteTime": {
     "end_time": "2022-04-20T07:24:44.788424Z",
     "start_time": "2022-04-20T07:24:44.782962Z"
    }
   },
   "outputs": [
    {
     "data": {
      "text/plain": [
       "41"
      ]
     },
     "execution_count": 6,
     "metadata": {},
     "output_type": "execute_result"
    }
   ],
   "source": [
    "len(row)"
   ]
  },
  {
   "cell_type": "code",
   "execution_count": 9,
   "metadata": {
    "ExecuteTime": {
     "end_time": "2022-04-20T07:27:39.101433Z",
     "start_time": "2022-04-20T07:27:39.095961Z"
    }
   },
   "outputs": [],
   "source": [
    "index_array = list(range(len(x)))\n",
    "# np.random.shuffle(index_array)\n",
    "# print(index_array[:10])"
   ]
  },
  {
   "cell_type": "code",
   "execution_count": 10,
   "metadata": {
    "ExecuteTime": {
     "end_time": "2022-04-20T07:27:44.307853Z",
     "start_time": "2022-04-20T07:27:44.241457Z"
    }
   },
   "outputs": [],
   "source": [
    "out_x = []\n",
    "out_y = []\n",
    "out_demo = []\n",
    "out_name = []\n",
    "out_mask_x = []\n",
    "out_mask_demo = []\n",
    "\n",
    "for idx in index_array:\n",
    "    out_x.append(x[idx])\n",
    "    out_y.append(y[idx])\n",
    "    out_name.append(name[idx])\n",
    "    out_demo.append(demo[idx])\n",
    "    out_mask_x.append(mask_x[idx])\n",
    "    out_mask_demo.append(mask_demo[idx])\n"
   ]
  },
  {
   "cell_type": "code",
   "execution_count": 11,
   "metadata": {
    "ExecuteTime": {
     "end_time": "2022-04-20T07:29:16.210372Z",
     "start_time": "2022-04-20T07:28:45.771824Z"
    }
   },
   "outputs": [],
   "source": [
    "pickle.dump(out_x, open('./new1/new_x.dat', 'wb'))\n",
    "pickle.dump(out_y, open('./new1/new_y.dat', 'wb'))\n",
    "pickle.dump(out_demo, open('./new1/new_demo.dat', 'wb'))\n",
    "pickle.dump(out_name, open('./new1/new_name.dat', 'wb'))\n",
    "pickle.dump(stat, open('./new1/stat.dat','wb'))\n",
    "pickle.dump(out_mask_x, open('./new1/new_mask_x.dat', 'wb'))\n",
    "pickle.dump(out_mask_demo, open('./new1/new_mask_demo.dat', 'wb'))"
   ]
  },
  {
   "cell_type": "code",
   "execution_count": 12,
   "metadata": {
    "ExecuteTime": {
     "end_time": "2022-04-20T07:30:33.951999Z",
     "start_time": "2022-04-20T07:29:57.461528Z"
    },
    "scrolled": true
   },
   "outputs": [
    {
     "name": "stdout",
     "output_type": "stream",
     "text": [
      "processing: 100 of 40336, 0.2479 %...\n",
      "processing: 200 of 40336, 0.4958 %...\n",
      "processing: 300 of 40336, 0.7438 %...\n",
      "processing: 400 of 40336, 0.9917 %...\n",
      "processing: 500 of 40336, 1.2396 %...\n",
      "processing: 600 of 40336, 1.4875 %...\n",
      "processing: 700 of 40336, 1.7354 %...\n",
      "processing: 800 of 40336, 1.9833 %...\n",
      "processing: 900 of 40336, 2.2313 %...\n",
      "processing: 1000 of 40336, 2.4792 %...\n",
      "processing: 1100 of 40336, 2.7271 %...\n",
      "processing: 1200 of 40336, 2.9750 %...\n",
      "processing: 1300 of 40336, 3.2229 %...\n",
      "processing: 1400 of 40336, 3.4708 %...\n",
      "processing: 1500 of 40336, 3.7188 %...\n",
      "processing: 1600 of 40336, 3.9667 %...\n",
      "processing: 1700 of 40336, 4.2146 %...\n",
      "processing: 1800 of 40336, 4.4625 %...\n",
      "processing: 1900 of 40336, 4.7104 %...\n",
      "processing: 2000 of 40336, 4.9583 %...\n",
      "processing: 2100 of 40336, 5.2063 %...\n",
      "processing: 2200 of 40336, 5.4542 %...\n",
      "processing: 2300 of 40336, 5.7021 %...\n",
      "processing: 2400 of 40336, 5.9500 %...\n",
      "processing: 2500 of 40336, 6.1979 %...\n",
      "processing: 2600 of 40336, 6.4459 %...\n",
      "processing: 2700 of 40336, 6.6938 %...\n",
      "processing: 2800 of 40336, 6.9417 %...\n",
      "processing: 2900 of 40336, 7.1896 %...\n",
      "processing: 3000 of 40336, 7.4375 %...\n",
      "processing: 3100 of 40336, 7.6854 %...\n",
      "processing: 3200 of 40336, 7.9334 %...\n",
      "processing: 3300 of 40336, 8.1813 %...\n",
      "processing: 3400 of 40336, 8.4292 %...\n",
      "processing: 3500 of 40336, 8.6771 %...\n",
      "processing: 3600 of 40336, 8.9250 %...\n",
      "processing: 3700 of 40336, 9.1729 %...\n",
      "processing: 3800 of 40336, 9.4209 %...\n",
      "processing: 3900 of 40336, 9.6688 %...\n",
      "processing: 4000 of 40336, 9.9167 %...\n",
      "processing: 4100 of 40336, 10.1646 %...\n",
      "processing: 4200 of 40336, 10.4125 %...\n",
      "processing: 4300 of 40336, 10.6605 %...\n",
      "processing: 4400 of 40336, 10.9084 %...\n",
      "processing: 4500 of 40336, 11.1563 %...\n",
      "processing: 4600 of 40336, 11.4042 %...\n",
      "processing: 4700 of 40336, 11.6521 %...\n",
      "processing: 4800 of 40336, 11.9000 %...\n",
      "processing: 4900 of 40336, 12.1480 %...\n",
      "processing: 5000 of 40336, 12.3959 %...\n",
      "processing: 5100 of 40336, 12.6438 %...\n",
      "processing: 5200 of 40336, 12.8917 %...\n",
      "processing: 5300 of 40336, 13.1396 %...\n",
      "processing: 5400 of 40336, 13.3875 %...\n",
      "processing: 5500 of 40336, 13.6355 %...\n",
      "processing: 5600 of 40336, 13.8834 %...\n",
      "processing: 5700 of 40336, 14.1313 %...\n",
      "processing: 5800 of 40336, 14.3792 %...\n",
      "processing: 5900 of 40336, 14.6271 %...\n",
      "processing: 6000 of 40336, 14.8750 %...\n",
      "processing: 6100 of 40336, 15.1230 %...\n",
      "processing: 6200 of 40336, 15.3709 %...\n",
      "processing: 6300 of 40336, 15.6188 %...\n",
      "processing: 6400 of 40336, 15.8667 %...\n",
      "processing: 6500 of 40336, 16.1146 %...\n",
      "processing: 6600 of 40336, 16.3626 %...\n",
      "processing: 6700 of 40336, 16.6105 %...\n",
      "processing: 6800 of 40336, 16.8584 %...\n",
      "processing: 6900 of 40336, 17.1063 %...\n",
      "processing: 7000 of 40336, 17.3542 %...\n",
      "processing: 7100 of 40336, 17.6021 %...\n",
      "processing: 7200 of 40336, 17.8501 %...\n",
      "processing: 7300 of 40336, 18.0980 %...\n",
      "processing: 7400 of 40336, 18.3459 %...\n",
      "processing: 7500 of 40336, 18.5938 %...\n",
      "processing: 7600 of 40336, 18.8417 %...\n",
      "processing: 7700 of 40336, 19.0896 %...\n",
      "processing: 7800 of 40336, 19.3376 %...\n",
      "processing: 7900 of 40336, 19.5855 %...\n",
      "processing: 8000 of 40336, 19.8334 %...\n",
      "processing: 8100 of 40336, 20.0813 %...\n",
      "processing: 8200 of 40336, 20.3292 %...\n",
      "processing: 8300 of 40336, 20.5772 %...\n",
      "processing: 8400 of 40336, 20.8251 %...\n",
      "processing: 8500 of 40336, 21.0730 %...\n",
      "processing: 8600 of 40336, 21.3209 %...\n",
      "processing: 8700 of 40336, 21.5688 %...\n",
      "processing: 8800 of 40336, 21.8167 %...\n",
      "processing: 8900 of 40336, 22.0647 %...\n",
      "processing: 9000 of 40336, 22.3126 %...\n",
      "processing: 9100 of 40336, 22.5605 %...\n",
      "processing: 9200 of 40336, 22.8084 %...\n",
      "processing: 9300 of 40336, 23.0563 %...\n",
      "processing: 9400 of 40336, 23.3042 %...\n",
      "processing: 9500 of 40336, 23.5522 %...\n",
      "processing: 9600 of 40336, 23.8001 %...\n",
      "processing: 9700 of 40336, 24.0480 %...\n",
      "processing: 9800 of 40336, 24.2959 %...\n",
      "processing: 9900 of 40336, 24.5438 %...\n",
      "processing: 10000 of 40336, 24.7917 %...\n",
      "processing: 10100 of 40336, 25.0397 %...\n",
      "processing: 10200 of 40336, 25.2876 %...\n",
      "processing: 10300 of 40336, 25.5355 %...\n",
      "processing: 10400 of 40336, 25.7834 %...\n",
      "processing: 10500 of 40336, 26.0313 %...\n",
      "processing: 10600 of 40336, 26.2793 %...\n",
      "processing: 10700 of 40336, 26.5272 %...\n",
      "processing: 10800 of 40336, 26.7751 %...\n",
      "processing: 10900 of 40336, 27.0230 %...\n",
      "processing: 11000 of 40336, 27.2709 %...\n",
      "processing: 11100 of 40336, 27.5188 %...\n",
      "processing: 11200 of 40336, 27.7668 %...\n",
      "processing: 11300 of 40336, 28.0147 %...\n",
      "processing: 11400 of 40336, 28.2626 %...\n",
      "processing: 11500 of 40336, 28.5105 %...\n",
      "processing: 11600 of 40336, 28.7584 %...\n",
      "processing: 11700 of 40336, 29.0063 %...\n",
      "processing: 11800 of 40336, 29.2543 %...\n",
      "processing: 11900 of 40336, 29.5022 %...\n",
      "processing: 12000 of 40336, 29.7501 %...\n",
      "processing: 12100 of 40336, 29.9980 %...\n",
      "processing: 12200 of 40336, 30.2459 %...\n",
      "processing: 12300 of 40336, 30.4939 %...\n",
      "processing: 12400 of 40336, 30.7418 %...\n",
      "processing: 12500 of 40336, 30.9897 %...\n",
      "processing: 12600 of 40336, 31.2376 %...\n",
      "processing: 12700 of 40336, 31.4855 %...\n",
      "processing: 12800 of 40336, 31.7334 %...\n",
      "processing: 12900 of 40336, 31.9814 %...\n",
      "processing: 13000 of 40336, 32.2293 %...\n",
      "processing: 13100 of 40336, 32.4772 %...\n",
      "processing: 13200 of 40336, 32.7251 %...\n",
      "processing: 13300 of 40336, 32.9730 %...\n",
      "processing: 13400 of 40336, 33.2209 %...\n",
      "processing: 13500 of 40336, 33.4689 %...\n",
      "processing: 13600 of 40336, 33.7168 %...\n",
      "processing: 13700 of 40336, 33.9647 %...\n",
      "processing: 13800 of 40336, 34.2126 %...\n",
      "processing: 13900 of 40336, 34.4605 %...\n",
      "processing: 14000 of 40336, 34.7084 %...\n",
      "processing: 14100 of 40336, 34.9564 %...\n",
      "processing: 14200 of 40336, 35.2043 %...\n",
      "processing: 14300 of 40336, 35.4522 %...\n",
      "processing: 14400 of 40336, 35.7001 %...\n",
      "processing: 14500 of 40336, 35.9480 %...\n",
      "processing: 14600 of 40336, 36.1960 %...\n",
      "processing: 14700 of 40336, 36.4439 %...\n",
      "processing: 14800 of 40336, 36.6918 %...\n",
      "processing: 14900 of 40336, 36.9397 %...\n",
      "processing: 15000 of 40336, 37.1876 %...\n",
      "processing: 15100 of 40336, 37.4355 %...\n",
      "processing: 15200 of 40336, 37.6835 %...\n",
      "processing: 15300 of 40336, 37.9314 %...\n",
      "processing: 15400 of 40336, 38.1793 %...\n",
      "processing: 15500 of 40336, 38.4272 %...\n",
      "processing: 15600 of 40336, 38.6751 %...\n",
      "processing: 15700 of 40336, 38.9230 %...\n",
      "processing: 15800 of 40336, 39.1710 %...\n",
      "processing: 15900 of 40336, 39.4189 %...\n",
      "processing: 16000 of 40336, 39.6668 %...\n",
      "processing: 16100 of 40336, 39.9147 %...\n",
      "processing: 16200 of 40336, 40.1626 %...\n",
      "processing: 16300 of 40336, 40.4106 %...\n",
      "processing: 16400 of 40336, 40.6585 %...\n",
      "processing: 16500 of 40336, 40.9064 %...\n",
      "processing: 16600 of 40336, 41.1543 %...\n",
      "processing: 16700 of 40336, 41.4022 %...\n",
      "processing: 16800 of 40336, 41.6501 %...\n",
      "processing: 16900 of 40336, 41.8981 %...\n",
      "processing: 17000 of 40336, 42.1460 %...\n",
      "processing: 17100 of 40336, 42.3939 %...\n",
      "processing: 17200 of 40336, 42.6418 %...\n",
      "processing: 17300 of 40336, 42.8897 %...\n",
      "processing: 17400 of 40336, 43.1376 %...\n",
      "processing: 17500 of 40336, 43.3856 %...\n",
      "processing: 17600 of 40336, 43.6335 %...\n",
      "processing: 17700 of 40336, 43.8814 %...\n",
      "processing: 17800 of 40336, 44.1293 %...\n",
      "processing: 17900 of 40336, 44.3772 %...\n",
      "processing: 18000 of 40336, 44.6251 %...\n",
      "processing: 18100 of 40336, 44.8731 %...\n",
      "processing: 18200 of 40336, 45.1210 %...\n",
      "processing: 18300 of 40336, 45.3689 %...\n",
      "processing: 18400 of 40336, 45.6168 %...\n",
      "processing: 18500 of 40336, 45.8647 %...\n",
      "processing: 18600 of 40336, 46.1127 %...\n",
      "processing: 18700 of 40336, 46.3606 %...\n",
      "processing: 18800 of 40336, 46.6085 %...\n",
      "processing: 18900 of 40336, 46.8564 %...\n",
      "processing: 19000 of 40336, 47.1043 %...\n",
      "processing: 19100 of 40336, 47.3522 %...\n",
      "processing: 19200 of 40336, 47.6002 %...\n",
      "processing: 19300 of 40336, 47.8481 %...\n",
      "processing: 19400 of 40336, 48.0960 %...\n",
      "processing: 19500 of 40336, 48.3439 %...\n",
      "processing: 19600 of 40336, 48.5918 %...\n",
      "processing: 19700 of 40336, 48.8397 %...\n",
      "processing: 19800 of 40336, 49.0877 %...\n",
      "processing: 19900 of 40336, 49.3356 %...\n",
      "processing: 20000 of 40336, 49.5835 %...\n",
      "processing: 20100 of 40336, 49.8314 %...\n",
      "processing: 20200 of 40336, 50.0793 %...\n",
      "processing: 20300 of 40336, 50.3273 %...\n",
      "processing: 20400 of 40336, 50.5752 %...\n"
     ]
    },
    {
     "name": "stdout",
     "output_type": "stream",
     "text": [
      "processing: 20500 of 40336, 50.8231 %...\n",
      "processing: 20600 of 40336, 51.0710 %...\n",
      "processing: 20700 of 40336, 51.3189 %...\n",
      "processing: 20800 of 40336, 51.5668 %...\n",
      "processing: 20900 of 40336, 51.8148 %...\n",
      "processing: 21000 of 40336, 52.0627 %...\n",
      "processing: 21100 of 40336, 52.3106 %...\n",
      "processing: 21200 of 40336, 52.5585 %...\n",
      "processing: 21300 of 40336, 52.8064 %...\n",
      "processing: 21400 of 40336, 53.0543 %...\n",
      "processing: 21500 of 40336, 53.3023 %...\n",
      "processing: 21600 of 40336, 53.5502 %...\n",
      "processing: 21700 of 40336, 53.7981 %...\n",
      "processing: 21800 of 40336, 54.0460 %...\n",
      "processing: 21900 of 40336, 54.2939 %...\n",
      "processing: 22000 of 40336, 54.5418 %...\n",
      "processing: 22100 of 40336, 54.7898 %...\n",
      "processing: 22200 of 40336, 55.0377 %...\n",
      "processing: 22300 of 40336, 55.2856 %...\n",
      "processing: 22400 of 40336, 55.5335 %...\n",
      "processing: 22500 of 40336, 55.7814 %...\n",
      "processing: 22600 of 40336, 56.0294 %...\n",
      "processing: 22700 of 40336, 56.2773 %...\n",
      "processing: 22800 of 40336, 56.5252 %...\n",
      "processing: 22900 of 40336, 56.7731 %...\n",
      "processing: 23000 of 40336, 57.0210 %...\n",
      "processing: 23100 of 40336, 57.2689 %...\n",
      "processing: 23200 of 40336, 57.5169 %...\n",
      "processing: 23300 of 40336, 57.7648 %...\n",
      "processing: 23400 of 40336, 58.0127 %...\n",
      "processing: 23500 of 40336, 58.2606 %...\n",
      "processing: 23600 of 40336, 58.5085 %...\n",
      "processing: 23700 of 40336, 58.7564 %...\n",
      "processing: 23800 of 40336, 59.0044 %...\n",
      "processing: 23900 of 40336, 59.2523 %...\n",
      "processing: 24000 of 40336, 59.5002 %...\n",
      "processing: 24100 of 40336, 59.7481 %...\n",
      "processing: 24200 of 40336, 59.9960 %...\n",
      "processing: 24300 of 40336, 60.2440 %...\n",
      "processing: 24400 of 40336, 60.4919 %...\n",
      "processing: 24500 of 40336, 60.7398 %...\n",
      "processing: 24600 of 40336, 60.9877 %...\n",
      "processing: 24700 of 40336, 61.2356 %...\n",
      "processing: 24800 of 40336, 61.4835 %...\n",
      "processing: 24900 of 40336, 61.7315 %...\n",
      "processing: 25000 of 40336, 61.9794 %...\n",
      "processing: 25100 of 40336, 62.2273 %...\n",
      "processing: 25200 of 40336, 62.4752 %...\n",
      "processing: 25300 of 40336, 62.7231 %...\n",
      "processing: 25400 of 40336, 62.9710 %...\n",
      "processing: 25500 of 40336, 63.2190 %...\n",
      "processing: 25600 of 40336, 63.4669 %...\n",
      "processing: 25700 of 40336, 63.7148 %...\n",
      "processing: 25800 of 40336, 63.9627 %...\n",
      "processing: 25900 of 40336, 64.2106 %...\n",
      "processing: 26000 of 40336, 64.4585 %...\n",
      "processing: 26100 of 40336, 64.7065 %...\n",
      "processing: 26200 of 40336, 64.9544 %...\n",
      "processing: 26300 of 40336, 65.2023 %...\n",
      "processing: 26400 of 40336, 65.4502 %...\n",
      "processing: 26500 of 40336, 65.6981 %...\n",
      "processing: 26600 of 40336, 65.9461 %...\n",
      "processing: 26700 of 40336, 66.1940 %...\n",
      "processing: 26800 of 40336, 66.4419 %...\n",
      "processing: 26900 of 40336, 66.6898 %...\n",
      "processing: 27000 of 40336, 66.9377 %...\n",
      "processing: 27100 of 40336, 67.1856 %...\n",
      "processing: 27200 of 40336, 67.4336 %...\n",
      "processing: 27300 of 40336, 67.6815 %...\n",
      "processing: 27400 of 40336, 67.9294 %...\n",
      "processing: 27500 of 40336, 68.1773 %...\n",
      "processing: 27600 of 40336, 68.4252 %...\n",
      "processing: 27700 of 40336, 68.6731 %...\n",
      "processing: 27800 of 40336, 68.9211 %...\n",
      "processing: 27900 of 40336, 69.1690 %...\n",
      "processing: 28000 of 40336, 69.4169 %...\n",
      "processing: 28100 of 40336, 69.6648 %...\n",
      "processing: 28200 of 40336, 69.9127 %...\n",
      "processing: 28300 of 40336, 70.1607 %...\n",
      "processing: 28400 of 40336, 70.4086 %...\n",
      "processing: 28500 of 40336, 70.6565 %...\n",
      "processing: 28600 of 40336, 70.9044 %...\n",
      "processing: 28700 of 40336, 71.1523 %...\n",
      "processing: 28800 of 40336, 71.4002 %...\n",
      "processing: 28900 of 40336, 71.6482 %...\n",
      "processing: 29000 of 40336, 71.8961 %...\n",
      "processing: 29100 of 40336, 72.1440 %...\n",
      "processing: 29200 of 40336, 72.3919 %...\n",
      "processing: 29300 of 40336, 72.6398 %...\n",
      "processing: 29400 of 40336, 72.8877 %...\n",
      "processing: 29500 of 40336, 73.1357 %...\n",
      "processing: 29600 of 40336, 73.3836 %...\n",
      "processing: 29700 of 40336, 73.6315 %...\n",
      "processing: 29800 of 40336, 73.8794 %...\n",
      "processing: 29900 of 40336, 74.1273 %...\n",
      "processing: 30000 of 40336, 74.3752 %...\n",
      "processing: 30100 of 40336, 74.6232 %...\n",
      "processing: 30200 of 40336, 74.8711 %...\n",
      "processing: 30300 of 40336, 75.1190 %...\n",
      "processing: 30400 of 40336, 75.3669 %...\n",
      "processing: 30500 of 40336, 75.6148 %...\n",
      "processing: 30600 of 40336, 75.8628 %...\n",
      "processing: 30700 of 40336, 76.1107 %...\n",
      "processing: 30800 of 40336, 76.3586 %...\n",
      "processing: 30900 of 40336, 76.6065 %...\n",
      "processing: 31000 of 40336, 76.8544 %...\n",
      "processing: 31100 of 40336, 77.1023 %...\n",
      "processing: 31200 of 40336, 77.3503 %...\n",
      "processing: 31300 of 40336, 77.5982 %...\n",
      "processing: 31400 of 40336, 77.8461 %...\n",
      "processing: 31500 of 40336, 78.0940 %...\n",
      "processing: 31600 of 40336, 78.3419 %...\n",
      "processing: 31700 of 40336, 78.5898 %...\n",
      "processing: 31800 of 40336, 78.8378 %...\n",
      "processing: 31900 of 40336, 79.0857 %...\n",
      "processing: 32000 of 40336, 79.3336 %...\n",
      "processing: 32100 of 40336, 79.5815 %...\n",
      "processing: 32200 of 40336, 79.8294 %...\n",
      "processing: 32300 of 40336, 80.0774 %...\n",
      "processing: 32400 of 40336, 80.3253 %...\n",
      "processing: 32500 of 40336, 80.5732 %...\n",
      "processing: 32600 of 40336, 80.8211 %...\n",
      "processing: 32700 of 40336, 81.0690 %...\n",
      "processing: 32800 of 40336, 81.3169 %...\n",
      "processing: 32900 of 40336, 81.5649 %...\n",
      "processing: 33000 of 40336, 81.8128 %...\n",
      "processing: 33100 of 40336, 82.0607 %...\n",
      "processing: 33200 of 40336, 82.3086 %...\n",
      "processing: 33300 of 40336, 82.5565 %...\n",
      "processing: 33400 of 40336, 82.8044 %...\n",
      "processing: 33500 of 40336, 83.0524 %...\n",
      "processing: 33600 of 40336, 83.3003 %...\n",
      "processing: 33700 of 40336, 83.5482 %...\n",
      "processing: 33800 of 40336, 83.7961 %...\n",
      "processing: 33900 of 40336, 84.0440 %...\n",
      "processing: 34000 of 40336, 84.2919 %...\n",
      "processing: 34100 of 40336, 84.5399 %...\n",
      "processing: 34200 of 40336, 84.7878 %...\n",
      "processing: 34300 of 40336, 85.0357 %...\n",
      "processing: 34400 of 40336, 85.2836 %...\n",
      "processing: 34500 of 40336, 85.5315 %...\n",
      "processing: 34600 of 40336, 85.7795 %...\n",
      "processing: 34700 of 40336, 86.0274 %...\n",
      "processing: 34800 of 40336, 86.2753 %...\n",
      "processing: 34900 of 40336, 86.5232 %...\n",
      "processing: 35000 of 40336, 86.7711 %...\n",
      "processing: 35100 of 40336, 87.0190 %...\n",
      "processing: 35200 of 40336, 87.2670 %...\n",
      "processing: 35300 of 40336, 87.5149 %...\n",
      "processing: 35400 of 40336, 87.7628 %...\n",
      "processing: 35500 of 40336, 88.0107 %...\n",
      "processing: 35600 of 40336, 88.2586 %...\n",
      "processing: 35700 of 40336, 88.5065 %...\n",
      "processing: 35800 of 40336, 88.7545 %...\n",
      "processing: 35900 of 40336, 89.0024 %...\n",
      "processing: 36000 of 40336, 89.2503 %...\n",
      "processing: 36100 of 40336, 89.4982 %...\n",
      "processing: 36200 of 40336, 89.7461 %...\n",
      "processing: 36300 of 40336, 89.9940 %...\n",
      "processing: 36400 of 40336, 90.2420 %...\n",
      "processing: 36500 of 40336, 90.4899 %...\n",
      "processing: 36600 of 40336, 90.7378 %...\n",
      "processing: 36700 of 40336, 90.9857 %...\n",
      "processing: 36800 of 40336, 91.2336 %...\n",
      "processing: 36900 of 40336, 91.4816 %...\n",
      "processing: 37000 of 40336, 91.7295 %...\n",
      "processing: 37100 of 40336, 91.9774 %...\n",
      "processing: 37200 of 40336, 92.2253 %...\n",
      "processing: 37300 of 40336, 92.4732 %...\n",
      "processing: 37400 of 40336, 92.7211 %...\n",
      "processing: 37500 of 40336, 92.9691 %...\n",
      "processing: 37600 of 40336, 93.2170 %...\n",
      "processing: 37700 of 40336, 93.4649 %...\n",
      "processing: 37800 of 40336, 93.7128 %...\n",
      "processing: 37900 of 40336, 93.9607 %...\n",
      "processing: 38000 of 40336, 94.2086 %...\n",
      "processing: 38100 of 40336, 94.4566 %...\n",
      "processing: 38200 of 40336, 94.7045 %...\n",
      "processing: 38300 of 40336, 94.9524 %...\n",
      "processing: 38400 of 40336, 95.2003 %...\n",
      "processing: 38500 of 40336, 95.4482 %...\n",
      "processing: 38600 of 40336, 95.6962 %...\n",
      "processing: 38700 of 40336, 95.9441 %...\n",
      "processing: 38800 of 40336, 96.1920 %...\n",
      "processing: 38900 of 40336, 96.4399 %...\n",
      "processing: 39000 of 40336, 96.6878 %...\n",
      "processing: 39100 of 40336, 96.9357 %...\n",
      "processing: 39200 of 40336, 97.1837 %...\n",
      "processing: 39300 of 40336, 97.4316 %...\n",
      "processing: 39400 of 40336, 97.6795 %...\n",
      "processing: 39500 of 40336, 97.9274 %...\n",
      "processing: 39600 of 40336, 98.1753 %...\n",
      "processing: 39700 of 40336, 98.4232 %...\n",
      "processing: 39800 of 40336, 98.6712 %...\n",
      "processing: 39900 of 40336, 98.9191 %...\n",
      "processing: 40000 of 40336, 99.1670 %...\n",
      "processing: 40100 of 40336, 99.4149 %...\n",
      "processing: 40200 of 40336, 99.6628 %...\n",
      "processing: 40300 of 40336, 99.9107 %...\n"
     ]
    }
   ],
   "source": [
    "cnt = 0\n",
    "x = []\n",
    "demo = []\n",
    "y = []\n",
    "# Normalize and dump data\n",
    "for fn in training_files:\n",
    "    cnt += 1\n",
    "    fn = data_path + fn\n",
    "    cur_x = []\n",
    "    cur_demo = []\n",
    "    cur_y = []\n",
    "    front = [(med_x[i] - mean_x[i]) / std_x[i] for i in range(len(row) - 1)]\n",
    "    #front = [med_x[i] for i in range(len(row) - 1)]\n",
    "    with open(fn, mode='r', encoding='utf-8') as f:\n",
    "        reader = csv.reader(f)\n",
    "        for row in reader:\n",
    "            if row[0] == \"HR\":\n",
    "                continue\n",
    "            for i in range(len(row)-1):\n",
    "                if row[i] == '':\n",
    "                    row[i] = front[i]\n",
    "                else:\n",
    "                    row[i] = (float(row[i]) - mean_x[i]) / std_x[i]\n",
    "                    row[i] = float(row[i])\n",
    "                    front[i] = row[i]\n",
    "            cur_x.append(row[0:34])\n",
    "            cur_demo.append(row[35:41])\n",
    "            cur_y.append(0 if row[-1] == '' else int(row[-1]))\n",
    "    if cnt % 100 == 0:\n",
    "        print('processing: %d of %d, %.4f %%...' % (cnt, training_size, 100*(cnt/training_size)))\n",
    "    x.append(cur_x)\n",
    "    demo.append(cur_demo)\n",
    "    y.append(cur_y)"
   ]
  },
  {
   "cell_type": "code",
   "execution_count": 14,
   "metadata": {
    "ExecuteTime": {
     "end_time": "2020-07-30T12:25:03.444074Z",
     "start_time": "2020-07-30T12:25:01.096934Z"
    }
   },
   "outputs": [],
   "source": [
    "out_x = []\n",
    "out_y = []\n",
    "out_demo = []\n",
    "\n",
    "for idx in index_array:\n",
    "    out_x.append(x[idx])\n",
    "    out_y.append(y[idx])\n",
    "    out_demo.append(demo[idx])"
   ]
  },
  {
   "cell_type": "code",
   "execution_count": 15,
   "metadata": {
    "ExecuteTime": {
     "end_time": "2020-07-30T12:25:17.005196Z",
     "start_time": "2020-07-30T12:25:05.248493Z"
    }
   },
   "outputs": [],
   "source": [
    "pickle.dump(out_x, open('./data/Challenge/normalized/new_x_front_fill.dat', 'wb'))\n",
    "pickle.dump(out_y, open('./data/Challenge/normalized/new_y_front_fill.dat', 'wb'))\n",
    "pickle.dump(out_demo, open('./data/Challenge/normalized/new_demo_front_fill.dat', 'wb'))"
   ]
  },
  {
   "cell_type": "code",
   "execution_count": 18,
   "metadata": {
    "ExecuteTime": {
     "end_time": "2020-07-30T12:25:20.314899Z",
     "start_time": "2020-07-30T12:25:20.304259Z"
    }
   },
   "outputs": [
    {
     "name": "stdout",
     "output_type": "stream",
     "text": [
      "[[0, 0, 0, 0, 0, 0, 0, 0, 0, 0, 0, 0, 0, 0, 0, 0, 0, 0, 0, 0, 0, 0, 0, 0, 0, 0, 0, 0, 0, 0, 0, 0, 0, 0], [0.13959732669071465, -0.747024887714533, -1.2691053032588202, 0, 0, 0, 0.24979487340799464, 0, 0, 0, 0, 0, 0, 0, 0, 0, 0, 0, 0, 0, 0, 0, 0, 0, 0, 0, 0, 0, 0, 0, 0, 0, 0, 0], [1.2939827622745723, 0.6149447909519286, 0, 1.8616726109879516, 1.7501130723080178, 0.9436400757845987, -0.5347970473908028, 0, 0, 0, 0, 0, 0, 0, 0, 0, 0, 0, 0, 0, 0, 0, 0, 0, 0, -1.9240557915130858, 0, 0, 0, 0, 0, 0, 0, 0], [0.6013515009242577, -0.747024887714533, 0, 2.808660776689615, 2.484428814128125, 1.58852383351643, 0, 0, 0, 0, 0, 0, 0, 0, 0, 0, 0, 0, 0, 0, 0, 0, 0, 0, 0, 0, 0, 0, 0, 0, 0, 0, 0, 0], [0.024158783132328877, -0.0660400483813022, 0, 1.5173132780055285, 1.1381832874579283, 0.4420638197709522, 0.05364689320829528, 0, 0, 0, 0, 0, 0, 0, 0, 0, 0, 0, 0, 0, 0, 1.0927115001280634, 0, 0, 0, 0, 0, 0, 0, 0, 0, 0, 0, 0], [0.024158783132328877, 0.2744523712853132, 0.6789124426658851, 1.9477624442335573, 1.1993762659429372, 0.5137175706300445, -1.711684928588999, 0, 0, 0, 0, 0, 0, 0, 0, -0.1458147236935165, 0, 0.34624791881652495, 0, -0.3825332479106692, 0, 0.6444613130749441, 0, 0.3733384913113416, -1.0147288039737958, -1.7683283748322345, 0, 0, 0, 0, 0, 0, 0, 0], [0.6590707727034506, -0.4065324680479176, 0, 3.3251997761632497, 1.9336920077630446, 1.0869475775027835, -1.3193889681896003, 0, 0, 0, 0, 0, 0, 0, 0, 0, 0, 0, 0, 0, 0, 0.35212423456204034, 0, 0, 0, 0, 0, 0, 0, 0, 0, 0, 0, 0], [0.5436322291450648, 0.6149447909519286, 0, 2.2490768605931777, 1.8113060507930268, 1.015293826643691, -0.33864906719110344, 0, 0, 0, 0, 0, 0, 0, 0, 0, 0, 0, 0, 0, 0, 0, 0, 0, 0, 0, 0, 0, 0, 0, 0, 0, 0, 0], [0, 0, 0, 0, 0, 0, 0, 0, 0, 0, 0, 0, 0, 0, 0, 0, 0, 0, 0, 0, 0, 0, 0, 0, 0, 0, 0, 0, 0, 0, 0, 0, 0, 0], [0.22617623435950399, -0.23628625821460988, -0.8795017540738829, 1.0222967368432954, 0.5874464810928478, 0.012141314616398025, 0.740164823907243, 0, 0, 0, 0, 0, 0, 0, 0, 0, 0, 0, 0, 0, 0, 0, 0, 0, 0, 0, 0, 0, 0, 0, 0, 0, 0, 0], [0.4281936855866791, 0.2744523712853132, 0, 2.076897194101966, 1.2605692444279462, 0.585371321489137, -0.5347970473908028, 0, 0, 0, 0, 0, 0, 0, 0, 0, 0, 0, 0, 0, 0, 0, 0, 0, 0, 0, 0, 0, 0, 0, 0, 0, 0, 0], [0.6590707727034506, 0.2744523712853132, 0, 1.9477624442335573, 1.566534136852991, 0.8719863249255063, 0.24979487340799464, 0, 0, 0, 0, 0, 0, 0, 0, 0, 0, 0, 0, 0, 0, 0, 0, 0.12201635639981047, -0.5229052031553685, -1.3011461247896807, 0, 0, 0, 0, 0, 0, 0, 0], [0.7745093162618364, -0.747024887714533, 0, 3.2821548595404466, 2.300849878673098, 1.4452163317982452, 0.6420908338073934, 0, 0, 0, 0, 0, 0, 0, 0, 0, 0, 0, 0, 0, 0, 0, 0, 0, 0, 0, 0, 0, 0, 0, 0, 0, 0, 0], [0.8322285880410293, -0.747024887714533, -0.3600303551606207, 1.7755827777423459, 0.8934113735178925, 0.2271025671936751, 0.6420908338073934, 0, 0, 0, 0, 0, 0, 0, 0, 0, 0, 0, 0, 0, 0, 1.7943204885590325, 0, 0, 0, 0, 0, 0, 0, 0, 0, 0, 0, 0], [0.7745093162618364, -0.0660400483813022, -0.3600303551606207, 1.1299090284003026, 0.281481588667803, -0.023685560813148154, -0.33864906719110344, 0, 0, 0, 0, 0, 0, 0, 0, 0, 0, 0, 0, 0, 0, 0, 0, 0, 0, 0, 0, 0, 0, 0, 0, 0, 0, 0], [0.5147725932554684, -1.0875173073811484, -0.3600303551606207, 0.11835348776443486, 0.281481588667803, -0.23864681339042523, 0.740164823907243, 0, 0, 0, 0, 0, 0, 0, 0, 0, 0, 0, 0, 0, 0, 0, 0, 0, 0, -1.612600958151383, 0, 0, 0, 0, 0, 0, 0, 0], [0.4281936855866791, -1.768502146714379, -0.2301625054323144, -0.8071122196258271, -0.6976060670923403, -1.0626649482699875, 0.05364689320829528, 0, 0, 0, 0, 0, 0, 0, 0, 0, 0, 0, 0, 0, 0, 0, 0, 0, 0, 0, 0, 0, 0, 0, 0, 0, 0, 0], [0.4281936855866791, -0.0660400483813022, -0.2301625054323144, 0.18292086269863916, 0.1590956316977851, -0.3461274396790638, 0.05364689320829528, 0, 0, 0, 0, 0, 0, 0, 0, 0, 0, 0, 0, 0, 0, 1.8722770428291402, 0, 0, 0, 0, 0, 0, 0, 0, 0, 0, 0, 0], [0.3127551420282933, -0.747024887714533, -0.2301625054323144, -0.20448338690658677, 0.036709674727767184, -0.41778119053815616, 0.44594285360769403, 0, 0, 0, 0, 0, 0, 0, 0, 0, 0, 0, 0, 0, 0, 0, 0, 0, 0, 0, 0, 0, 0, 0, 0, 0, 0, 0], [-0.06242012453646045, -0.5767786778812253, -0.7496339043455673, -0.6349325531346156, -0.6976060670923403, -0.6327424431154333, 0.05364689320829528, 0, 0, 0, 0, 0, 0, 0, 0, 0, 0, 0, 0, 0, 0, 0, 0, 0, 0, 0, 0, 0, 0, 0, 0, 0, 0, 0], [-0.2067183039844427, -0.747024887714533, -0.7496339043455673, -1.4958308855906732, -1.4319218089124477, -1.6358949551427262, 0.8382388140070928, 0, 0, 0, 0, 0, 0, 0, 0, 0, 0, 0, 0, 0, 0, 0, 0, 0, 0, 0, 0, 0, 0, 0, 0, 0, 0, 0], [-0.3221568475428285, -0.4065324680479176, 0, -1.4097410523450675, -0.942377981032376, -1.0626649482699875, -0.1425010869914041, 0, 0, 0, 0, 0, 0, 0, 0, 0, 0, 0, 0, 0, 0, 0, 0, 0, 0, 0, 0, 0, 0, 0, 0, 0, 0, 0], [-0.2067183039844427, -1.0875173073811484, -0.6197660546172518, -0.5918876365118126, -0.33044819618228655, -0.4894349413972485, 0.24979487340799464, 0, 0, 0, 0, 0, 0, 0, 0, -0.1458147236935165, 0, 0.3051487380880145, 0, -0.34930316774751763, 0, 0.8783309758852672, 0, 0.12201635639981047, -1.2255103471816935, -0.8339638747471262, 0, 0, 0, 0, 0, 0, 0, 0], [-0.17785866809484624, -0.5767786778812253, -0.6197660546172518, -0.2260058452179882, -0.08567628224225073, -0.5252618168267946, -0.044427096891554406, 0, 0, 0, 0, 0, 0, 0, 0, 0, 0, 0, 0, 0, 0, 0, 0, 0, 0, 0, 0, 0, 0, 0, 0, 0, 0, 0], [-0.2644375757636356, -0.0660400483813022, -0.6197660546172518, -0.8071122196258271, -0.942377981032376, -1.2776262008472645, 0.05364689320829528, 0, 0, 0, 0, 0, 0, 0, 0, 0, 0, 0, 0, 0, 0, 0, 0, 0, 0, 0, 0, 0, 0, 0, 0, 0, 0, 0], [0, 0, 0, 0, 0, 0, 0, 0, 0, 0, 0, 0, 0, 0, 0, 0, 0, 0, 0, 0, 0, 0, 0, 0, 0, 0, 0, 0, 0, 0, 0, 0, 0, 0], [-0.4953146628804071, -0.4065324680479176, 0, -0.7210223863802213, 0.22028861018279403, 0.9436400757845987, 0.24979487340799464, 0, 0, 0, 0, 0, 0, 0, 0, 0, 0, 0, 0, 0, 0, 0, 0, 0, 0, 0, 0, 0, 0, 0, 0, 0, 0, 0], [0, 0, 0, 0, 0, 0, 0, 0, 0, 0, 0, 0, 0, 0, 0, 0, 0, 0, 0, 0, 0, -0.07663681392355196, 0, 0, 0, 0, 0, 0, 0, 0, 0, 0, 0, 0], [-0.03356048864686401, -0.4065324680479176, 0, 0.8285946120406824, 0.5262535026078388, -0.05951243624269434, 0.6420908338073934, 0, 0, 0, 0, 0, 0, 0, 0, 0, 0, 0, 0, 0, 0, 0, 0, 0, 0, 0, 0, 0, 0, 0, 0, 0, 0, 0], [0.024158783132328877, -0.4065324680479176, -0.8795017540738829, 0.613370028926668, 0.22028861018279403, -0.2744736888199714, 0.24979487340799464, 0, 0, 0, 0, 0, 0, 0, 0, 0, 0, 0, 0, 0, 0, 0, 0, 0, 0, 0, 0, 0, 0, 0, 0, 0, 0, 0], [0.08187805491152177, -1.0875173073811484, 0, 0, 0, 0, -0.1425010869914041, 0, 0, 0, 0, 0, 0, 0, 0, 0, 0, 0, 0, 0, 0, 0, 0, 0, 0, 0, 0, 0, 0, 0, 0, 0, 0, 0], [0.6013515009242577, -0.0660400483813022, 0, 0.6994598621722737, 0.7098324380628657, 0.08379506547549039, 0.24979487340799464, 0, 0, 0, 0, 0, 0, 0, 0, 0, 0, 0, 0, 0, 0, 0, 0, 0, 0, 0, 0, 0, 0, 0, 0, 0, 0, 0], [0.08187805491152177, -0.0660400483813022, 0, 0, 0, 0, 0.24979487340799464, 0, 0, 0, 0, 0, 0, 0, 0, 0, 0, 0, 0, 0, 0, 0, 0, 0, 0, 0, 0, 0, 0, 0, 0, 0, 0, 0], [-0.2067183039844427, -0.747024887714533, -0.48989820488893626, 1.043819195154697, 0.7098324380628657, 0.08379506547549039, 0.6420908338073934, 0, 0, 0, 0, 0, 0, 0, 0, 0, 0, 0, 0, 0, 0, 0, 0, 0, 0, 0, 0, 0, 0, 0, 0, 0, 0, 0], [-0.0912797604260569, -0.0660400483813022, 0, 0, 0, 0, 1.0343867942067921, 0, 0, 0, 0, 0, 0, 0, 0, 0, 0, 0, 0, 0, 0, 0, 0, 0, 0, 0, 0, 0, 0, 0, 0, 0, 0, 0], [0.3704744138074862, -0.0660400483813022, 0, 1.646448027873937, 1.4441481798829732, 0.7286788232073216, 0.6420908338073934, 0, 0, 0, 0, 0, 0, 0, 0, 0, 0, 0, 0, 0, 0, 0, 0, 0, 0, 0, 0, 0, 0, 0, 0, 0, 0, 0], [0.5436322291450648, 0.2744523712853132, 0, 0.48423527905825936, 0, -0.2744736888199714, 0.6420908338073934, 0, 0, 0, 0, 0, 0, 0, 0, 0, 0, 0, 0, 0, 0, 0.8783309758852672, 0, 0, 0, 0, 0, 0, 0, 0, 0, 0, 0, 0], [0.19731659846990754, 0.2744523712853132, -0.3600303551606207, 0.9146844452862881, 0.6486394595778567, 0.08379506547549039, 0.24979487340799464, 0, 0, 0, 0, 0, 0, 0, 0, -0.24584361691974763, 0, 0.2229503766309929, 0, -0.32161143427822464, 0, 1.0927115001280634, 0, -0.38062791342325175, -0.24186314554483818, -1.1454187081088292, 0, 0, 0.36525959826648957, 0.08593047073152654, 0, 1.2874956498517083, 0, 3.4446544626726237], [0, 0, 0, 0, 0, 0, 0, 0, 0, 0, 0, 0, 0, 0, 0, 0, 0, 0, 0, 0, 0, 0, 0, 0, 0, 0, 0, 0, 0, 0, 0, 0, 0, 0], [1.582579121170537, 0.6149447909519286, 0, 0.48423527905825936, 0, 0.08379506547549039, -0.1425010869914041, 0, 0, 0, 0, 0, 0, 0, 0, 0, 0, 0, 0, 0, 0, 0, 0, 0, 0, 0, 0, 0, 0, 0, 0, 0, 0, 0], [0.7167900444826435, 0.6149447909519286, 0, 0.9577293619090911, 0.8934113735178925, 0.37041006891185985, -0.1425010869914041, 0, 0, 0, 0, 0, 0, 0, 0, 0, 0, 0, 0, 0, 0, 0, 0, 0, 0, 0, 0, 0, 0, 0, 0, 0, 0, 0], [0.4281936855866791, 0.2744523712853132, -0.3600303551606207, 1.5603581946283314, 1.0769903089729194, 0.4420638197709522, -0.5347970473908028, 0, 0, 0, 0, 0, 0, 0, 0, 0, 0, 0, 0, 0, 0, 0, 0, 0, 0, 0, 0, 0, 0, 0, 0, 0, 0, 0], [0.485912957365872, 0.2744523712853132, 0, 0.2690106959442449, 0.5874464810928478, 0.08379506547549039, -0.5347970473908028, 0, 0, 0, 0, 0, 0, 0, 0, 0, 0, 0, 0, 0, 0, 1.5994291028837633, 0, 0, 0, 0, 0, 0, 0, 0, 0, 0, 0, 0], [0, 0, 0, 0, 0, 0, 0, 0, 0, 0, 0, 0, 0, 0, 0, 0, 0, 0, 0, 0, 0, 0, 0, 0, 0, 0, 0, 0, 0, 0, 0, 0, 0, 0], [-0.03356048864686401, 0, 0, 0, 0, 0, 0, 0, 0, 0, 0, 0, 0, 0, 0, 0, 0, 0, 0, 0, 0, 0, 0, 0, 0, 0, 0, 0, 0, 0, 0, 0, 0, 0], [0, 0, 0, 0, 0, 0, 0, 0, 0, 0, 0, 0, 0, 0, 0, 0, 0, 0, 0, 0, 0, 0, 0, 0, 0, 0, 0, 0, 0, 0, 0, 0, 0, 0]]\n",
      "[0, 0, 0, 0, 0, 0, 0, 0, 0, 0, 0, 0, 0, 0, 0, 0, 0, 0, 0, 0, 0, 0, 0, 0, 0, 0, 0, 0, 0, 0, 0, 0, 0, 0, 0, 0, 0, 0, 0, 0, 0, 0, 0, 0, 0, 0]\n",
      "[0.24352980249248035, -1.1264803265802585, -0.9931656033414253, 0.9931656033414252, -0.6901087690293141]\n"
     ]
    }
   ],
   "source": [
    "print(out_x[0])\n",
    "print(out_y[0])\n",
    "print(out_demo[0])"
   ]
  },
  {
   "cell_type": "code",
   "execution_count": 2,
   "metadata": {
    "ExecuteTime": {
     "end_time": "2020-07-17T09:35:56.838914Z",
     "start_time": "2020-07-17T09:35:56.716583Z"
    }
   },
   "outputs": [
    {
     "ename": "NameError",
     "evalue": "name 'out_x' is not defined",
     "output_type": "error",
     "traceback": [
      "\u001b[0;31m---------------------------------------------------------------------------\u001b[0m",
      "\u001b[0;31mNameError\u001b[0m                                 Traceback (most recent call last)",
      "\u001b[0;32m<ipython-input-2-b3c605544248>\u001b[0m in \u001b[0;36m<module>\u001b[0;34m\u001b[0m\n\u001b[0;32m----> 1\u001b[0;31m \u001b[0mpickle\u001b[0m\u001b[0;34m.\u001b[0m\u001b[0mload\u001b[0m\u001b[0;34m(\u001b[0m\u001b[0mout_x\u001b[0m\u001b[0;34m,\u001b[0m \u001b[0mopen\u001b[0m\u001b[0;34m(\u001b[0m\u001b[0;34m'./data/Challenge/normalized/raw_x_front_fill.dat'\u001b[0m\u001b[0;34m,\u001b[0m \u001b[0;34m'rb'\u001b[0m\u001b[0;34m)\u001b[0m\u001b[0;34m)\u001b[0m\u001b[0;34m\u001b[0m\u001b[0;34m\u001b[0m\u001b[0m\n\u001b[0m\u001b[1;32m      2\u001b[0m \u001b[0mpickle\u001b[0m\u001b[0;34m.\u001b[0m\u001b[0mload\u001b[0m\u001b[0;34m(\u001b[0m\u001b[0mout_y\u001b[0m\u001b[0;34m,\u001b[0m \u001b[0mopen\u001b[0m\u001b[0;34m(\u001b[0m\u001b[0;34m'./data/Challenge/normalized/raw_y_front_fill.dat'\u001b[0m\u001b[0;34m,\u001b[0m \u001b[0;34m'rb'\u001b[0m\u001b[0;34m)\u001b[0m\u001b[0;34m)\u001b[0m\u001b[0;34m\u001b[0m\u001b[0;34m\u001b[0m\u001b[0m\n\u001b[1;32m      3\u001b[0m \u001b[0mpickle\u001b[0m\u001b[0;34m.\u001b[0m\u001b[0mload\u001b[0m\u001b[0;34m(\u001b[0m\u001b[0mout_demo\u001b[0m\u001b[0;34m,\u001b[0m \u001b[0mopen\u001b[0m\u001b[0;34m(\u001b[0m\u001b[0;34m'./data/Challenge/normalized/raw_demo_front_fill.dat'\u001b[0m\u001b[0;34m,\u001b[0m \u001b[0;34m'rb'\u001b[0m\u001b[0;34m)\u001b[0m\u001b[0;34m)\u001b[0m\u001b[0;34m\u001b[0m\u001b[0;34m\u001b[0m\u001b[0m\n",
      "\u001b[0;31mNameError\u001b[0m: name 'out_x' is not defined"
     ]
    }
   ],
   "source": [
    "out_x = pickle.load(open('./data/Challenge/normalized/raw_x_front_fill.dat', 'rb'))\n",
    "out_y = pickle.load(out_y, open('./data/Challenge/normalized/raw_y_front_fill.dat', 'rb'))\n",
    "out_demo = pickle.load(out_demo, open('./data/Challenge/normalized/raw_demo_front_fill.dat', 'rb'))"
   ]
  },
  {
   "cell_type": "code",
   "execution_count": null,
   "metadata": {},
   "outputs": [],
   "source": []
  }
 ],
 "metadata": {
  "kernelspec": {
   "display_name": "Python 3 (ipykernel)",
   "language": "python",
   "name": "python3"
  },
  "language_info": {
   "codemirror_mode": {
    "name": "ipython",
    "version": 3
   },
   "file_extension": ".py",
   "mimetype": "text/x-python",
   "name": "python",
   "nbconvert_exporter": "python",
   "pygments_lexer": "ipython3",
   "version": "3.9.7"
  },
  "toc": {
   "base_numbering": 1,
   "nav_menu": {},
   "number_sections": true,
   "sideBar": true,
   "skip_h1_title": false,
   "title_cell": "Table of Contents",
   "title_sidebar": "Contents",
   "toc_cell": false,
   "toc_position": {},
   "toc_section_display": true,
   "toc_window_display": false
  }
 },
 "nbformat": 4,
 "nbformat_minor": 2
}
