{
 "cells": [
  {
   "cell_type": "code",
   "execution_count": 1,
   "metadata": {
    "ExecuteTime": {
     "end_time": "2023-04-20T02:11:30.797629Z",
     "start_time": "2023-04-20T02:11:30.391290Z"
    }
   },
   "outputs": [],
   "source": [
    "import pandas as pd\n",
    "import numpy as np\n",
    "import os\n",
    "import pickle\n",
    "import csv"
   ]
  },
  {
   "cell_type": "code",
   "execution_count": 2,
   "metadata": {
    "ExecuteTime": {
     "end_time": "2023-04-20T02:11:39.722106Z",
     "start_time": "2023-04-20T02:11:30.799500Z"
    },
    "scrolled": true
   },
   "outputs": [
    {
     "name": "stdout",
     "output_type": "stream",
     "text": [
      "                       MT_001     MT_002    MT_003      MT_004     MT_005  \\\n",
      "2011-01-01 00:15:00  0.000000   0.000000  0.000000    0.000000   0.000000   \n",
      "2011-01-01 00:30:00  0.000000   0.000000  0.000000    0.000000   0.000000   \n",
      "2011-01-01 00:45:00  0.000000   0.000000  0.000000    0.000000   0.000000   \n",
      "2011-01-01 01:00:00  0.000000   0.000000  0.000000    0.000000   0.000000   \n",
      "2011-01-01 01:15:00  0.000000   0.000000  0.000000    0.000000   0.000000   \n",
      "...                       ...        ...       ...         ...        ...   \n",
      "2014-12-31 23:00:00  2.538071  22.048364  1.737619  150.406504  85.365854   \n",
      "2014-12-31 23:15:00  2.538071  21.337127  1.737619  166.666667  81.707317   \n",
      "2014-12-31 23:30:00  2.538071  20.625889  1.737619  162.601626  82.926829   \n",
      "2014-12-31 23:45:00  1.269036  21.337127  1.737619  166.666667  85.365854   \n",
      "2015-01-01 00:00:00  2.538071  19.914651  1.737619  178.861789  84.146341   \n",
      "\n",
      "                         MT_006     MT_007      MT_008     MT_009     MT_010  \\\n",
      "2011-01-01 00:15:00    0.000000   0.000000    0.000000   0.000000   0.000000   \n",
      "2011-01-01 00:30:00    0.000000   0.000000    0.000000   0.000000   0.000000   \n",
      "2011-01-01 00:45:00    0.000000   0.000000    0.000000   0.000000   0.000000   \n",
      "2011-01-01 01:00:00    0.000000   0.000000    0.000000   0.000000   0.000000   \n",
      "2011-01-01 01:15:00    0.000000   0.000000    0.000000   0.000000   0.000000   \n",
      "...                         ...        ...         ...        ...        ...   \n",
      "2014-12-31 23:00:00  303.571429  11.305822  282.828283  68.181818  72.043011   \n",
      "2014-12-31 23:15:00  324.404762  11.305822  252.525253  64.685315  72.043011   \n",
      "2014-12-31 23:30:00  318.452381  10.175240  242.424242  61.188811  74.193548   \n",
      "2014-12-31 23:45:00  285.714286  10.175240  225.589226  64.685315  72.043011   \n",
      "2015-01-01 00:00:00  279.761905  10.175240  249.158249  62.937063  69.892473   \n",
      "\n",
      "                     ...   MT_362       MT_363       MT_364     MT_365  \\\n",
      "2011-01-01 00:15:00  ...      0.0     0.000000     0.000000   0.000000   \n",
      "2011-01-01 00:30:00  ...      0.0     0.000000     0.000000   0.000000   \n",
      "2011-01-01 00:45:00  ...      0.0     0.000000     0.000000   0.000000   \n",
      "2011-01-01 01:00:00  ...      0.0     0.000000     0.000000   0.000000   \n",
      "2011-01-01 01:15:00  ...      0.0     0.000000     0.000000   0.000000   \n",
      "...                  ...      ...          ...          ...        ...   \n",
      "2014-12-31 23:00:00  ...  28200.0  1616.033755  1363.636364  29.986962   \n",
      "2014-12-31 23:15:00  ...  28300.0  1569.620253  1340.909091  29.986962   \n",
      "2014-12-31 23:30:00  ...  27800.0  1556.962025  1318.181818  27.379400   \n",
      "2014-12-31 23:45:00  ...  28000.0  1443.037975   909.090909  26.075619   \n",
      "2015-01-01 00:00:00  ...  27800.0  1409.282700   954.545455  27.379400   \n",
      "\n",
      "                       MT_366      MT_367      MT_368      MT_369  \\\n",
      "2011-01-01 00:15:00  0.000000    0.000000    0.000000    0.000000   \n",
      "2011-01-01 00:30:00  0.000000    0.000000    0.000000    0.000000   \n",
      "2011-01-01 00:45:00  0.000000    0.000000    0.000000    0.000000   \n",
      "2011-01-01 01:00:00  0.000000    0.000000    0.000000    0.000000   \n",
      "2011-01-01 01:15:00  0.000000    0.000000    0.000000    0.000000   \n",
      "...                       ...         ...         ...         ...   \n",
      "2014-12-31 23:00:00  5.851375  697.102722  176.961603  651.026393   \n",
      "2014-12-31 23:15:00  9.947338  671.641791  168.614357  669.354839   \n",
      "2014-12-31 23:30:00  9.362200  670.763828  153.589316  670.087977   \n",
      "2014-12-31 23:45:00  4.095963  664.618086  146.911519  646.627566   \n",
      "2015-01-01 00:00:00  4.095963  628.621598  131.886477  673.020528   \n",
      "\n",
      "                          MT_370            datetime  \n",
      "2011-01-01 00:15:00     0.000000 2011-01-01 00:15:00  \n",
      "2011-01-01 00:30:00     0.000000 2011-01-01 00:30:00  \n",
      "2011-01-01 00:45:00     0.000000 2011-01-01 00:45:00  \n",
      "2011-01-01 01:00:00     0.000000 2011-01-01 01:00:00  \n",
      "2011-01-01 01:15:00     0.000000 2011-01-01 01:15:00  \n",
      "...                          ...                 ...  \n",
      "2014-12-31 23:00:00  7621.621622 2014-12-31 23:00:00  \n",
      "2014-12-31 23:15:00  6702.702703 2014-12-31 23:15:00  \n",
      "2014-12-31 23:30:00  6864.864865 2014-12-31 23:30:00  \n",
      "2014-12-31 23:45:00  6540.540541 2014-12-31 23:45:00  \n",
      "2015-01-01 00:00:00  7135.135135 2015-01-01 00:00:00  \n",
      "\n",
      "[140256 rows x 371 columns]\n"
     ]
    }
   ],
   "source": [
    "filename = 'LD2011_2014.txt'\n",
    "\n",
    "df = pd.read_csv(filename, index_col=0, sep=';', decimal=',')\n",
    "df.index = pd.to_datetime(df.index)\n",
    "feature_names = df.columns.tolist()\n",
    "feature_num = len(feature_names)\n",
    "df['datetime'] = pd.to_datetime(df.index)\n",
    "print(df)"
   ]
  },
  {
   "cell_type": "code",
   "execution_count": 6,
   "metadata": {
    "ExecuteTime": {
     "end_time": "2023-04-20T02:13:19.655329Z",
     "start_time": "2023-04-20T02:13:19.140537Z"
    }
   },
   "outputs": [
    {
     "name": "stdout",
     "output_type": "stream",
     "text": [
      "Original df missing rate: 0.000\n",
      "(140256, 371)\n",
      "(140256, 370)\n",
      "[[ True  True  True ...  True  True  True]\n",
      " [ True  True  True ...  True  True  True]\n",
      " [ True  True  True ...  True  True  True]\n",
      " ...\n",
      " [ True  True  True ...  True  True  True]\n",
      " [ True  True  True ...  True  True  True]\n",
      " [ True  True  True ...  True  True  True]]\n"
     ]
    }
   ],
   "source": [
    "print(f'Original df missing rate: '\n",
    "            f'{(df.loc[:, feature_names].isna().sum().sum() / (df.shape[0] * df.shape[1])):.3f}')\n",
    "mask = ~(df.loc[:, feature_names].isna().values)\n",
    "print(df.shape)\n",
    "print(mask.shape)\n",
    "print(mask)"
   ]
  },
  {
   "cell_type": "code",
   "execution_count": 7,
   "metadata": {
    "ExecuteTime": {
     "end_time": "2023-04-20T02:13:25.353264Z",
     "start_time": "2023-04-20T02:13:23.585895Z"
    }
   },
   "outputs": [
    {
     "name": "stdout",
     "output_type": "stream",
     "text": [
      "(1402, 100, 370) (1402, 100, 370)\n"
     ]
    }
   ],
   "source": [
    "from sklearn.preprocessing import StandardScaler\n",
    "scaler = StandardScaler()\n",
    "x = scaler.fit_transform(df.loc[:, feature_names])\n",
    "\n",
    "\n",
    "def window_truncate(feature_vectors, seq_len):\n",
    "    \"\"\" Generate time series samples, truncating windows from time-series data with a given sequence length.\n",
    "    Parameters\n",
    "    ----------\n",
    "    feature_vectors: time series data, len(shape)=2, [total_length, feature_num]\n",
    "    seq_len: sequence length\n",
    "    \"\"\"\n",
    "    start_indices = np.asarray(range(feature_vectors.shape[0] // seq_len)) * seq_len\n",
    "    sample_collector = []\n",
    "    for idx in start_indices:\n",
    "        sample_collector.append(feature_vectors[idx: idx + seq_len])\n",
    "\n",
    "    return np.asarray(sample_collector).astype('float32')\n",
    "\n",
    "\n",
    "seq_len = 100\n",
    "x = window_truncate(x, seq_len)\n",
    "x[np.isnan(x)] = 0\n",
    "mask = window_truncate(mask, seq_len)\n",
    "# print(x)\n",
    "# print(mask)\n",
    "print(x.shape, mask.shape)"
   ]
  },
  {
   "cell_type": "code",
   "execution_count": 8,
   "metadata": {
    "ExecuteTime": {
     "end_time": "2023-04-20T02:13:29.898977Z",
     "start_time": "2023-04-20T02:13:28.732305Z"
    }
   },
   "outputs": [],
   "source": [
    "pickle.dump((x, mask), open('data.pkl', 'wb'))"
   ]
  },
  {
   "cell_type": "code",
   "execution_count": null,
   "metadata": {},
   "outputs": [],
   "source": []
  }
 ],
 "metadata": {
  "kernelspec": {
   "display_name": "Python 3 (ipykernel)",
   "language": "python",
   "name": "python3"
  },
  "language_info": {
   "codemirror_mode": {
    "name": "ipython",
    "version": 3
   },
   "file_extension": ".py",
   "mimetype": "text/x-python",
   "name": "python",
   "nbconvert_exporter": "python",
   "pygments_lexer": "ipython3",
   "version": "3.8.12"
  },
  "toc": {
   "base_numbering": 1,
   "nav_menu": {},
   "number_sections": true,
   "sideBar": true,
   "skip_h1_title": false,
   "title_cell": "Table of Contents",
   "title_sidebar": "Contents",
   "toc_cell": false,
   "toc_position": {},
   "toc_section_display": true,
   "toc_window_display": false
  }
 },
 "nbformat": 4,
 "nbformat_minor": 2
}
